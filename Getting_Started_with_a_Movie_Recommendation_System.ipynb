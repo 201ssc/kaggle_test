{
  "nbformat": 4,
  "nbformat_minor": 0,
  "metadata": {
    "colab": {
      "provenance": [],
      "collapsed_sections": [],
      "authorship_tag": "ABX9TyPLdpGm7Rp+bd1TBccrW2y+",
      "include_colab_link": true
    },
    "kernelspec": {
      "name": "python3",
      "display_name": "Python 3"
    },
    "language_info": {
      "name": "python"
    }
  },
  "cells": [
    {
      "cell_type": "markdown",
      "metadata": {
        "id": "view-in-github",
        "colab_type": "text"
      },
      "source": [
        "<a href=\"https://colab.research.google.com/github/201ssc/kaggle_test/blob/main/Getting_Started_with_a_Movie_Recommendation_System.ipynb\" target=\"_parent\"><img src=\"https://colab.research.google.com/assets/colab-badge.svg\" alt=\"Open In Colab\"/></a>"
      ]
    },
    {
      "cell_type": "markdown",
      "source": [
        "# Getting Started with a Movie Recommendation System\n",
        "\n",
        "https://www.kaggle.com/code/ibtesama/getting-started-with-a-movie-recommendation-system\n"
      ],
      "metadata": {
        "id": "w80vKRqSRurj"
      }
    },
    {
      "cell_type": "markdown",
      "source": [
        "따라쓰는 캐글 1\n",
        " \n",
        " 영화추천 시스템\n",
        "\n",
        "## The Age of Recommender Systems\n",
        "\n",
        "The rapid growth of data collection has led to a new era of information. Data is being used to create more efficient systems and this is where Recommendation Sys come into play. RS are a type of information filtering systems as they improve the quality of search results and provides items that are more relevantt to the search item or are realted to the search histoty of the user.\n",
        "\n",
        "\\\n",
        "They are used to predict the **rating** and **preference** that a user would give to an item. Almost every major tech company has applied them in some form or the other: Amazon uses it to suggest products to customer, YouTube uses it to decide which video to play next on autoplay , and Facebook yses it to recommend pages to like and peolpe to follow. Moreover, companies like Neflix and Spotify depend highly on the effectiveness of their recommendation engines for their bussiness and sucess.\n",
        "\n",
        "\\\n",
        "There are basically three types of recommender systems:-\n",
        "\n",
        "* Demographic Filtering- They offer generalized recommendations to every user, based on movie popularity and/or genre. The System recommends the same movies to users with similar demographic features. Since each user is different , this approach is considered to be too simple. The basic idea behind this system is that movies that are more popular and critically acclaimed will have a higher probability of being liked by the average audience.\n",
        "\n",
        "\n"
      ],
      "metadata": {
        "id": "qvYGGtGORwFN"
      }
    },
    {
      "cell_type": "markdown",
      "source": [],
      "metadata": {
        "id": "PnXcSj9yRwHk"
      }
    },
    {
      "cell_type": "markdown",
      "source": [],
      "metadata": {
        "id": "rRCxvEaxRwKP"
      }
    },
    {
      "cell_type": "markdown",
      "source": [],
      "metadata": {
        "id": "PfaIQEBqRwMx"
      }
    }
  ]
}