{
  "nbformat": 4,
  "nbformat_minor": 0,
  "metadata": {
    "colab": {
      "name": "kaggle_titanic_test5.ipynb",
      "provenance": [],
      "collapsed_sections": [],
      "mount_file_id": "139WKiQfTGdNDW_-_Oo5qS_1Ac0oncsip",
      "authorship_tag": "ABX9TyNrDXu8wnGtszqdgotzOHfl",
      "include_colab_link": true
    },
    "kernelspec": {
      "name": "python3",
      "display_name": "Python 3"
    },
    "language_info": {
      "name": "python"
    }
  },
  "cells": [
    {
      "cell_type": "markdown",
      "metadata": {
        "id": "view-in-github",
        "colab_type": "text"
      },
      "source": [
        "<a href=\"https://colab.research.google.com/github/201ssc/kaggle_test/blob/main/kaggle_titanic_test5.ipynb\" target=\"_parent\"><img src=\"https://colab.research.google.com/assets/colab-badge.svg\" alt=\"Open In Colab\"/></a>"
      ]
    },
    {
      "cell_type": "code",
      "execution_count": 165,
      "metadata": {
        "id": "kA1S1hrpXnZd"
      },
      "outputs": [],
      "source": [
        "import numpy as np\n",
        "import pandas as pd\n",
        "from pandas import Series\n",
        "import matplotlib.pyplot as plt\n",
        "import seaborn as sns\n",
        "\n",
        "plt.style.use('seaborn')\n",
        "sns.set(font_scale=2.5)\n",
        "\n",
        "# ignore warnings\n",
        "import warnings\n",
        "warnings.filterwarnings('ignore')\n",
        "\n",
        "%matplotlib inline\n",
        "\n",
        "df_test = pd.read_csv('/content/drive/MyDrive/Colab Notebooks/titanic/test.csv')\n",
        "df_train = pd.read_csv('/content/drive/MyDrive/Colab Notebooks/titanic/train.csv')"
      ]
    },
    {
      "cell_type": "code",
      "source": [
        "for col in df_train.columns:\n",
        "    msg = 'column: {:>10}\\t Percent of NaN value: {:.2f}%'.format(col, 100 * (df_train[col].isnull().sum() / df_train[col].shape[0]))\n",
        "    print(msg)"
      ],
      "metadata": {
        "colab": {
          "base_uri": "https://localhost:8080/"
        },
        "id": "rtTYF_eEYnMB",
        "outputId": "05c7b3e2-0e4b-4651-f949-fea71c51632c"
      },
      "execution_count": 166,
      "outputs": [
        {
          "output_type": "stream",
          "name": "stdout",
          "text": [
            "column: PassengerId\t Percent of NaN value: 0.00%\n",
            "column:   Survived\t Percent of NaN value: 0.00%\n",
            "column:     Pclass\t Percent of NaN value: 0.00%\n",
            "column:       Name\t Percent of NaN value: 0.00%\n",
            "column:        Sex\t Percent of NaN value: 0.00%\n",
            "column:        Age\t Percent of NaN value: 19.87%\n",
            "column:      SibSp\t Percent of NaN value: 0.00%\n",
            "column:      Parch\t Percent of NaN value: 0.00%\n",
            "column:     Ticket\t Percent of NaN value: 0.00%\n",
            "column:       Fare\t Percent of NaN value: 0.00%\n",
            "column:      Cabin\t Percent of NaN value: 77.10%\n",
            "column:   Embarked\t Percent of NaN value: 0.22%\n"
          ]
        }
      ]
    },
    {
      "cell_type": "code",
      "source": [
        "for col in df_test.columns:\n",
        "    msg = 'column: {:>10}\\t Percent of NaN value: {:.2f}%'.format(col, 100 * (df_test[col].isnull().sum() / df_test[col].shape[0]))\n",
        "    print(msg)"
      ],
      "metadata": {
        "colab": {
          "base_uri": "https://localhost:8080/"
        },
        "id": "B_M6CnUTbiAZ",
        "outputId": "ba34705f-ed4e-4e66-cdf3-0b46a6ae6509"
      },
      "execution_count": 167,
      "outputs": [
        {
          "output_type": "stream",
          "name": "stdout",
          "text": [
            "column: PassengerId\t Percent of NaN value: 0.00%\n",
            "column:     Pclass\t Percent of NaN value: 0.00%\n",
            "column:       Name\t Percent of NaN value: 0.00%\n",
            "column:        Sex\t Percent of NaN value: 0.00%\n",
            "column:        Age\t Percent of NaN value: 20.57%\n",
            "column:      SibSp\t Percent of NaN value: 0.00%\n",
            "column:      Parch\t Percent of NaN value: 0.00%\n",
            "column:     Ticket\t Percent of NaN value: 0.00%\n",
            "column:       Fare\t Percent of NaN value: 0.24%\n",
            "column:      Cabin\t Percent of NaN value: 78.23%\n",
            "column:   Embarked\t Percent of NaN value: 0.00%\n"
          ]
        }
      ]
    },
    {
      "cell_type": "code",
      "source": [
        "df_train['Fare'] = df_train['Fare'].map(lambda i: np.log(i) if i > 0 else 0)\n",
        "df_test['Fare'] = df_test['Fare'].map(lambda i: np.log(i) if i > 0 else 0)"
      ],
      "metadata": {
        "id": "wCRhq8lQdaIG"
      },
      "execution_count": 168,
      "outputs": []
    },
    {
      "cell_type": "markdown",
      "source": [
        "기본 값 정리, 연령 널값 제거, 티켓값 평탄화"
      ],
      "metadata": {
        "id": "yGvHrTLidkPw"
      }
    },
    {
      "cell_type": "markdown",
      "source": [
        "# Fill Null in Age"
      ],
      "metadata": {
        "id": "S9d8rET_NDjC"
      }
    },
    {
      "cell_type": "code",
      "source": [
        "# 취소 연령 평균값, 좀 더 정확히 하기\n",
        "\n",
        "# df_test.loc[df_test.Age.isnull(), 'Age'] = round(df_test.Age.mean(), 2)\n",
        "# df_train.loc[df_train.Age.isnull(), 'Age'] = round(df_train.Age.mean(), 2)"
      ],
      "metadata": {
        "id": "AaQqTm15bR6y"
      },
      "execution_count": 137,
      "outputs": []
    },
    {
      "cell_type": "code",
      "source": [
        "df_train['Initial'] = df_train.Name.str.extract('([A-Za-z]+)\\.') # Lets extract the Salutations\n",
        "df_test['Initial'] = df_test.Name.str.extract('([A-Za-z]+)\\.') # Lets extract the Salutations"
      ],
      "metadata": {
        "id": "UhT1jzZHdjm8"
      },
      "execution_count": 169,
      "outputs": []
    },
    {
      "cell_type": "code",
      "source": [
        "pd.crosstab(df_train['Initial'], df_train['Sex']).T.style.background_gradient(\n",
        "\tcmap='summer_r') # Checking the Initials with the Sex"
      ],
      "metadata": {
        "colab": {
          "base_uri": "https://localhost:8080/",
          "height": 143
        },
        "id": "bPIp7i4p9NUT",
        "outputId": "f9af2f7a-4177-4390-8295-aca36c9d4442"
      },
      "execution_count": 170,
      "outputs": [
        {
          "output_type": "execute_result",
          "data": {
            "text/plain": [
              "<pandas.io.formats.style.Styler at 0x7fbd4f8cbb50>"
            ],
            "text/html": [
              "<style type=\"text/css\">\n",
              "#T_ba1a0_row0_col0, #T_ba1a0_row0_col1, #T_ba1a0_row0_col3, #T_ba1a0_row0_col4, #T_ba1a0_row0_col5, #T_ba1a0_row0_col7, #T_ba1a0_row0_col8, #T_ba1a0_row0_col12, #T_ba1a0_row0_col15, #T_ba1a0_row0_col16, #T_ba1a0_row1_col2, #T_ba1a0_row1_col6, #T_ba1a0_row1_col9, #T_ba1a0_row1_col10, #T_ba1a0_row1_col11, #T_ba1a0_row1_col13, #T_ba1a0_row1_col14 {\n",
              "  background-color: #ffff66;\n",
              "  color: #000000;\n",
              "}\n",
              "#T_ba1a0_row0_col2, #T_ba1a0_row0_col6, #T_ba1a0_row0_col9, #T_ba1a0_row0_col10, #T_ba1a0_row0_col11, #T_ba1a0_row0_col13, #T_ba1a0_row0_col14, #T_ba1a0_row1_col0, #T_ba1a0_row1_col1, #T_ba1a0_row1_col3, #T_ba1a0_row1_col4, #T_ba1a0_row1_col5, #T_ba1a0_row1_col7, #T_ba1a0_row1_col8, #T_ba1a0_row1_col12, #T_ba1a0_row1_col15, #T_ba1a0_row1_col16 {\n",
              "  background-color: #008066;\n",
              "  color: #f1f1f1;\n",
              "}\n",
              "</style>\n",
              "<table id=\"T_ba1a0_\" class=\"dataframe\">\n",
              "  <thead>\n",
              "    <tr>\n",
              "      <th class=\"index_name level0\" >Initial</th>\n",
              "      <th class=\"col_heading level0 col0\" >Capt</th>\n",
              "      <th class=\"col_heading level0 col1\" >Col</th>\n",
              "      <th class=\"col_heading level0 col2\" >Countess</th>\n",
              "      <th class=\"col_heading level0 col3\" >Don</th>\n",
              "      <th class=\"col_heading level0 col4\" >Dr</th>\n",
              "      <th class=\"col_heading level0 col5\" >Jonkheer</th>\n",
              "      <th class=\"col_heading level0 col6\" >Lady</th>\n",
              "      <th class=\"col_heading level0 col7\" >Major</th>\n",
              "      <th class=\"col_heading level0 col8\" >Master</th>\n",
              "      <th class=\"col_heading level0 col9\" >Miss</th>\n",
              "      <th class=\"col_heading level0 col10\" >Mlle</th>\n",
              "      <th class=\"col_heading level0 col11\" >Mme</th>\n",
              "      <th class=\"col_heading level0 col12\" >Mr</th>\n",
              "      <th class=\"col_heading level0 col13\" >Mrs</th>\n",
              "      <th class=\"col_heading level0 col14\" >Ms</th>\n",
              "      <th class=\"col_heading level0 col15\" >Rev</th>\n",
              "      <th class=\"col_heading level0 col16\" >Sir</th>\n",
              "    </tr>\n",
              "    <tr>\n",
              "      <th class=\"index_name level0\" >Sex</th>\n",
              "      <th class=\"blank col0\" >&nbsp;</th>\n",
              "      <th class=\"blank col1\" >&nbsp;</th>\n",
              "      <th class=\"blank col2\" >&nbsp;</th>\n",
              "      <th class=\"blank col3\" >&nbsp;</th>\n",
              "      <th class=\"blank col4\" >&nbsp;</th>\n",
              "      <th class=\"blank col5\" >&nbsp;</th>\n",
              "      <th class=\"blank col6\" >&nbsp;</th>\n",
              "      <th class=\"blank col7\" >&nbsp;</th>\n",
              "      <th class=\"blank col8\" >&nbsp;</th>\n",
              "      <th class=\"blank col9\" >&nbsp;</th>\n",
              "      <th class=\"blank col10\" >&nbsp;</th>\n",
              "      <th class=\"blank col11\" >&nbsp;</th>\n",
              "      <th class=\"blank col12\" >&nbsp;</th>\n",
              "      <th class=\"blank col13\" >&nbsp;</th>\n",
              "      <th class=\"blank col14\" >&nbsp;</th>\n",
              "      <th class=\"blank col15\" >&nbsp;</th>\n",
              "      <th class=\"blank col16\" >&nbsp;</th>\n",
              "    </tr>\n",
              "  </thead>\n",
              "  <tbody>\n",
              "    <tr>\n",
              "      <th id=\"T_ba1a0_level0_row0\" class=\"row_heading level0 row0\" >female</th>\n",
              "      <td id=\"T_ba1a0_row0_col0\" class=\"data row0 col0\" >0</td>\n",
              "      <td id=\"T_ba1a0_row0_col1\" class=\"data row0 col1\" >0</td>\n",
              "      <td id=\"T_ba1a0_row0_col2\" class=\"data row0 col2\" >1</td>\n",
              "      <td id=\"T_ba1a0_row0_col3\" class=\"data row0 col3\" >0</td>\n",
              "      <td id=\"T_ba1a0_row0_col4\" class=\"data row0 col4\" >1</td>\n",
              "      <td id=\"T_ba1a0_row0_col5\" class=\"data row0 col5\" >0</td>\n",
              "      <td id=\"T_ba1a0_row0_col6\" class=\"data row0 col6\" >1</td>\n",
              "      <td id=\"T_ba1a0_row0_col7\" class=\"data row0 col7\" >0</td>\n",
              "      <td id=\"T_ba1a0_row0_col8\" class=\"data row0 col8\" >0</td>\n",
              "      <td id=\"T_ba1a0_row0_col9\" class=\"data row0 col9\" >182</td>\n",
              "      <td id=\"T_ba1a0_row0_col10\" class=\"data row0 col10\" >2</td>\n",
              "      <td id=\"T_ba1a0_row0_col11\" class=\"data row0 col11\" >1</td>\n",
              "      <td id=\"T_ba1a0_row0_col12\" class=\"data row0 col12\" >0</td>\n",
              "      <td id=\"T_ba1a0_row0_col13\" class=\"data row0 col13\" >125</td>\n",
              "      <td id=\"T_ba1a0_row0_col14\" class=\"data row0 col14\" >1</td>\n",
              "      <td id=\"T_ba1a0_row0_col15\" class=\"data row0 col15\" >0</td>\n",
              "      <td id=\"T_ba1a0_row0_col16\" class=\"data row0 col16\" >0</td>\n",
              "    </tr>\n",
              "    <tr>\n",
              "      <th id=\"T_ba1a0_level0_row1\" class=\"row_heading level0 row1\" >male</th>\n",
              "      <td id=\"T_ba1a0_row1_col0\" class=\"data row1 col0\" >1</td>\n",
              "      <td id=\"T_ba1a0_row1_col1\" class=\"data row1 col1\" >2</td>\n",
              "      <td id=\"T_ba1a0_row1_col2\" class=\"data row1 col2\" >0</td>\n",
              "      <td id=\"T_ba1a0_row1_col3\" class=\"data row1 col3\" >1</td>\n",
              "      <td id=\"T_ba1a0_row1_col4\" class=\"data row1 col4\" >6</td>\n",
              "      <td id=\"T_ba1a0_row1_col5\" class=\"data row1 col5\" >1</td>\n",
              "      <td id=\"T_ba1a0_row1_col6\" class=\"data row1 col6\" >0</td>\n",
              "      <td id=\"T_ba1a0_row1_col7\" class=\"data row1 col7\" >2</td>\n",
              "      <td id=\"T_ba1a0_row1_col8\" class=\"data row1 col8\" >40</td>\n",
              "      <td id=\"T_ba1a0_row1_col9\" class=\"data row1 col9\" >0</td>\n",
              "      <td id=\"T_ba1a0_row1_col10\" class=\"data row1 col10\" >0</td>\n",
              "      <td id=\"T_ba1a0_row1_col11\" class=\"data row1 col11\" >0</td>\n",
              "      <td id=\"T_ba1a0_row1_col12\" class=\"data row1 col12\" >517</td>\n",
              "      <td id=\"T_ba1a0_row1_col13\" class=\"data row1 col13\" >0</td>\n",
              "      <td id=\"T_ba1a0_row1_col14\" class=\"data row1 col14\" >0</td>\n",
              "      <td id=\"T_ba1a0_row1_col15\" class=\"data row1 col15\" >6</td>\n",
              "      <td id=\"T_ba1a0_row1_col16\" class=\"data row1 col16\" >1</td>\n",
              "    </tr>\n",
              "  </tbody>\n",
              "</table>\n"
            ]
          },
          "metadata": {},
          "execution_count": 170
        }
      ]
    },
    {
      "cell_type": "code",
      "source": [
        "## 취소  \n",
        "# 단순하게 만들어 평균값을 넣어 줬지만 비효율적이다. \n",
        "\"\"\"\n",
        "1. 널이 아닌 값도 불필요한 계산이 들어간다.\n",
        "2. 지나친 단순화로 인해 널값들이 부정확하게 들어 갈 수 있다. \n",
        "\n",
        ">> 차라리 널에 해당하는 값들을 살펴본뒤 그들에 평균을 직접 넣는 것이 더 바람직하다.\n",
        "\n",
        "df_train['Initial'].replace(['Mlle', 'Mme', 'Ms', 'Dr', 'Major', 'Lady', 'Countess', 'Jonkheer',\n",
        "\t'Col', 'Rev', 'Capt', 'Sir', 'Don', 'Dona'],\n",
        "    \t['Miss', 'Miss', 'Miss', 'Mr', 'Mr', 'Mrs', 'Mrs', 'Other', 'Other', 'Other',\n",
        "        'Mr', 'Mr', 'Mr', 'Mr'], inplace = Ture)\n",
        "        \n",
        "df_test['Initial'].replace(['Mlle', 'Mme', 'Ms', 'Dr', 'Major', 'Lady', 'Countess', 'Jonkheer',\n",
        "\t'Col', 'Rev', 'Capt', 'Sir', 'Don', 'Dona'],\n",
        "    \t['Miss', 'Miss', 'Miss', 'Mr', 'Mr', 'Mrs', 'Mrs', 'Other', 'Other', 'Other',\n",
        "        'Mr', 'Mr', 'Mr', 'Mr'], inplace = Ture)\n",
        "\n",
        "\n",
        "df_train.loc[(df_train.Age.isnull())&(df_train.Initial=='Mr'),'Age'] = 33\n",
        "df_train.loc[(df_train.Age.isnull())&(df_train.Initial=='Mrs'),'Age'] = 36\n",
        "df_train.loc[(df_train.Age.isnull())&(df_train.Initial=='Master'),'Age'] = 5\n",
        "df_train.loc[(df_train.Age.isnull())&(df_train.Initial=='Miss'),'Age'] = 22\n",
        "df_train.loc[(df_train.Age.isnull())&(df_train.Initial=='Other'),'Age'] = 46\n",
        "\n",
        "# test의 값은 train 값을 기준으로 바꿔줍시다.\n",
        "df_test.loc[(df_test.Age.isnull())&(df_test.Initial=='Mr'),'Age'] = 33\n",
        "df_test.loc[(df_test.Age.isnull())&(df_test.Initial=='Mrs'),'Age'] = 36\n",
        "df_test.loc[(df_test.Age.isnull())&(df_test.Initial=='Master'),'Age'] = 5\n",
        "df_test.loc[(df_test.Age.isnull())&(df_test.Initial=='Miss'),'Age'] = 22\n",
        "df_test.loc[(df_test.Age.isnull())&(df_test.Initial=='Other'),'Age'] = 46\n",
        "\n",
        "# df.loc['A', 'B']가 있다면\n",
        "# 'A'는 행을 나타내고 'B'는 열(Label)을 나타냅니다.\n",
        "\n",
        "\"\"\""
      ],
      "metadata": {
        "id": "qSVQwkUAHeO6"
      },
      "execution_count": null,
      "outputs": []
    },
    {
      "cell_type": "code",
      "source": [
        "# 널값 찾기\n",
        "pd.crosstab(df_train['Initial'], df_train['Age'].isnull()).T.style.background_gradient(\n",
        "\tcmap='summer_r')"
      ],
      "metadata": {
        "colab": {
          "base_uri": "https://localhost:8080/",
          "height": 143
        },
        "id": "k7I-qHpAF-9b",
        "outputId": "f7435d90-027a-49e8-d8f0-9502619081fc"
      },
      "execution_count": 153,
      "outputs": [
        {
          "output_type": "execute_result",
          "data": {
            "text/plain": [
              "<pandas.io.formats.style.Styler at 0x7fbd4f8ad850>"
            ],
            "text/html": [
              "<style type=\"text/css\">\n",
              "#T_a0d65_row0_col0, #T_a0d65_row0_col1, #T_a0d65_row0_col2, #T_a0d65_row0_col3, #T_a0d65_row0_col4, #T_a0d65_row0_col5, #T_a0d65_row0_col6, #T_a0d65_row0_col7, #T_a0d65_row0_col8, #T_a0d65_row0_col9, #T_a0d65_row0_col10, #T_a0d65_row0_col11, #T_a0d65_row0_col12, #T_a0d65_row0_col13, #T_a0d65_row0_col14, #T_a0d65_row0_col15, #T_a0d65_row0_col16 {\n",
              "  background-color: #008066;\n",
              "  color: #f1f1f1;\n",
              "}\n",
              "#T_a0d65_row1_col0, #T_a0d65_row1_col1, #T_a0d65_row1_col2, #T_a0d65_row1_col3, #T_a0d65_row1_col4, #T_a0d65_row1_col5, #T_a0d65_row1_col6, #T_a0d65_row1_col7, #T_a0d65_row1_col8, #T_a0d65_row1_col9, #T_a0d65_row1_col10, #T_a0d65_row1_col11, #T_a0d65_row1_col12, #T_a0d65_row1_col13, #T_a0d65_row1_col14, #T_a0d65_row1_col15, #T_a0d65_row1_col16 {\n",
              "  background-color: #ffff66;\n",
              "  color: #000000;\n",
              "}\n",
              "</style>\n",
              "<table id=\"T_a0d65_\" class=\"dataframe\">\n",
              "  <thead>\n",
              "    <tr>\n",
              "      <th class=\"index_name level0\" >Initial</th>\n",
              "      <th class=\"col_heading level0 col0\" >Capt</th>\n",
              "      <th class=\"col_heading level0 col1\" >Col</th>\n",
              "      <th class=\"col_heading level0 col2\" >Countess</th>\n",
              "      <th class=\"col_heading level0 col3\" >Don</th>\n",
              "      <th class=\"col_heading level0 col4\" >Dr</th>\n",
              "      <th class=\"col_heading level0 col5\" >Jonkheer</th>\n",
              "      <th class=\"col_heading level0 col6\" >Lady</th>\n",
              "      <th class=\"col_heading level0 col7\" >Major</th>\n",
              "      <th class=\"col_heading level0 col8\" >Master</th>\n",
              "      <th class=\"col_heading level0 col9\" >Miss</th>\n",
              "      <th class=\"col_heading level0 col10\" >Mlle</th>\n",
              "      <th class=\"col_heading level0 col11\" >Mme</th>\n",
              "      <th class=\"col_heading level0 col12\" >Mr</th>\n",
              "      <th class=\"col_heading level0 col13\" >Mrs</th>\n",
              "      <th class=\"col_heading level0 col14\" >Ms</th>\n",
              "      <th class=\"col_heading level0 col15\" >Rev</th>\n",
              "      <th class=\"col_heading level0 col16\" >Sir</th>\n",
              "    </tr>\n",
              "    <tr>\n",
              "      <th class=\"index_name level0\" >Age</th>\n",
              "      <th class=\"blank col0\" >&nbsp;</th>\n",
              "      <th class=\"blank col1\" >&nbsp;</th>\n",
              "      <th class=\"blank col2\" >&nbsp;</th>\n",
              "      <th class=\"blank col3\" >&nbsp;</th>\n",
              "      <th class=\"blank col4\" >&nbsp;</th>\n",
              "      <th class=\"blank col5\" >&nbsp;</th>\n",
              "      <th class=\"blank col6\" >&nbsp;</th>\n",
              "      <th class=\"blank col7\" >&nbsp;</th>\n",
              "      <th class=\"blank col8\" >&nbsp;</th>\n",
              "      <th class=\"blank col9\" >&nbsp;</th>\n",
              "      <th class=\"blank col10\" >&nbsp;</th>\n",
              "      <th class=\"blank col11\" >&nbsp;</th>\n",
              "      <th class=\"blank col12\" >&nbsp;</th>\n",
              "      <th class=\"blank col13\" >&nbsp;</th>\n",
              "      <th class=\"blank col14\" >&nbsp;</th>\n",
              "      <th class=\"blank col15\" >&nbsp;</th>\n",
              "      <th class=\"blank col16\" >&nbsp;</th>\n",
              "    </tr>\n",
              "  </thead>\n",
              "  <tbody>\n",
              "    <tr>\n",
              "      <th id=\"T_a0d65_level0_row0\" class=\"row_heading level0 row0\" >False</th>\n",
              "      <td id=\"T_a0d65_row0_col0\" class=\"data row0 col0\" >1</td>\n",
              "      <td id=\"T_a0d65_row0_col1\" class=\"data row0 col1\" >2</td>\n",
              "      <td id=\"T_a0d65_row0_col2\" class=\"data row0 col2\" >1</td>\n",
              "      <td id=\"T_a0d65_row0_col3\" class=\"data row0 col3\" >1</td>\n",
              "      <td id=\"T_a0d65_row0_col4\" class=\"data row0 col4\" >6</td>\n",
              "      <td id=\"T_a0d65_row0_col5\" class=\"data row0 col5\" >1</td>\n",
              "      <td id=\"T_a0d65_row0_col6\" class=\"data row0 col6\" >1</td>\n",
              "      <td id=\"T_a0d65_row0_col7\" class=\"data row0 col7\" >2</td>\n",
              "      <td id=\"T_a0d65_row0_col8\" class=\"data row0 col8\" >36</td>\n",
              "      <td id=\"T_a0d65_row0_col9\" class=\"data row0 col9\" >146</td>\n",
              "      <td id=\"T_a0d65_row0_col10\" class=\"data row0 col10\" >2</td>\n",
              "      <td id=\"T_a0d65_row0_col11\" class=\"data row0 col11\" >1</td>\n",
              "      <td id=\"T_a0d65_row0_col12\" class=\"data row0 col12\" >398</td>\n",
              "      <td id=\"T_a0d65_row0_col13\" class=\"data row0 col13\" >108</td>\n",
              "      <td id=\"T_a0d65_row0_col14\" class=\"data row0 col14\" >1</td>\n",
              "      <td id=\"T_a0d65_row0_col15\" class=\"data row0 col15\" >6</td>\n",
              "      <td id=\"T_a0d65_row0_col16\" class=\"data row0 col16\" >1</td>\n",
              "    </tr>\n",
              "    <tr>\n",
              "      <th id=\"T_a0d65_level0_row1\" class=\"row_heading level0 row1\" >True</th>\n",
              "      <td id=\"T_a0d65_row1_col0\" class=\"data row1 col0\" >0</td>\n",
              "      <td id=\"T_a0d65_row1_col1\" class=\"data row1 col1\" >0</td>\n",
              "      <td id=\"T_a0d65_row1_col2\" class=\"data row1 col2\" >0</td>\n",
              "      <td id=\"T_a0d65_row1_col3\" class=\"data row1 col3\" >0</td>\n",
              "      <td id=\"T_a0d65_row1_col4\" class=\"data row1 col4\" >1</td>\n",
              "      <td id=\"T_a0d65_row1_col5\" class=\"data row1 col5\" >0</td>\n",
              "      <td id=\"T_a0d65_row1_col6\" class=\"data row1 col6\" >0</td>\n",
              "      <td id=\"T_a0d65_row1_col7\" class=\"data row1 col7\" >0</td>\n",
              "      <td id=\"T_a0d65_row1_col8\" class=\"data row1 col8\" >4</td>\n",
              "      <td id=\"T_a0d65_row1_col9\" class=\"data row1 col9\" >36</td>\n",
              "      <td id=\"T_a0d65_row1_col10\" class=\"data row1 col10\" >0</td>\n",
              "      <td id=\"T_a0d65_row1_col11\" class=\"data row1 col11\" >0</td>\n",
              "      <td id=\"T_a0d65_row1_col12\" class=\"data row1 col12\" >119</td>\n",
              "      <td id=\"T_a0d65_row1_col13\" class=\"data row1 col13\" >17</td>\n",
              "      <td id=\"T_a0d65_row1_col14\" class=\"data row1 col14\" >0</td>\n",
              "      <td id=\"T_a0d65_row1_col15\" class=\"data row1 col15\" >0</td>\n",
              "      <td id=\"T_a0d65_row1_col16\" class=\"data row1 col16\" >0</td>\n",
              "    </tr>\n",
              "  </tbody>\n",
              "</table>\n"
            ]
          },
          "metadata": {},
          "execution_count": 153
        }
      ]
    },
    {
      "cell_type": "code",
      "source": [
        "pd.crosstab(df_test['Initial'], df_test['Age'].isnull()).T.style.background_gradient(\n",
        "\tcmap='summer_r')"
      ],
      "metadata": {
        "colab": {
          "base_uri": "https://localhost:8080/",
          "height": 143
        },
        "id": "mTnMu1OaKEug",
        "outputId": "8d37fdbc-9041-438e-a45f-0076bb20d866"
      },
      "execution_count": 154,
      "outputs": [
        {
          "output_type": "execute_result",
          "data": {
            "text/plain": [
              "<pandas.io.formats.style.Styler at 0x7fbd4f8afad0>"
            ],
            "text/html": [
              "<style type=\"text/css\">\n",
              "#T_2fbd2_row0_col0, #T_2fbd2_row0_col1, #T_2fbd2_row0_col2, #T_2fbd2_row0_col3, #T_2fbd2_row0_col4, #T_2fbd2_row0_col5, #T_2fbd2_row0_col6, #T_2fbd2_row0_col8, #T_2fbd2_row1_col7 {\n",
              "  background-color: #008066;\n",
              "  color: #f1f1f1;\n",
              "}\n",
              "#T_2fbd2_row0_col7, #T_2fbd2_row1_col0, #T_2fbd2_row1_col1, #T_2fbd2_row1_col2, #T_2fbd2_row1_col3, #T_2fbd2_row1_col4, #T_2fbd2_row1_col5, #T_2fbd2_row1_col6, #T_2fbd2_row1_col8 {\n",
              "  background-color: #ffff66;\n",
              "  color: #000000;\n",
              "}\n",
              "</style>\n",
              "<table id=\"T_2fbd2_\" class=\"dataframe\">\n",
              "  <thead>\n",
              "    <tr>\n",
              "      <th class=\"index_name level0\" >Initial</th>\n",
              "      <th class=\"col_heading level0 col0\" >Col</th>\n",
              "      <th class=\"col_heading level0 col1\" >Dona</th>\n",
              "      <th class=\"col_heading level0 col2\" >Dr</th>\n",
              "      <th class=\"col_heading level0 col3\" >Master</th>\n",
              "      <th class=\"col_heading level0 col4\" >Miss</th>\n",
              "      <th class=\"col_heading level0 col5\" >Mr</th>\n",
              "      <th class=\"col_heading level0 col6\" >Mrs</th>\n",
              "      <th class=\"col_heading level0 col7\" >Ms</th>\n",
              "      <th class=\"col_heading level0 col8\" >Rev</th>\n",
              "    </tr>\n",
              "    <tr>\n",
              "      <th class=\"index_name level0\" >Age</th>\n",
              "      <th class=\"blank col0\" >&nbsp;</th>\n",
              "      <th class=\"blank col1\" >&nbsp;</th>\n",
              "      <th class=\"blank col2\" >&nbsp;</th>\n",
              "      <th class=\"blank col3\" >&nbsp;</th>\n",
              "      <th class=\"blank col4\" >&nbsp;</th>\n",
              "      <th class=\"blank col5\" >&nbsp;</th>\n",
              "      <th class=\"blank col6\" >&nbsp;</th>\n",
              "      <th class=\"blank col7\" >&nbsp;</th>\n",
              "      <th class=\"blank col8\" >&nbsp;</th>\n",
              "    </tr>\n",
              "  </thead>\n",
              "  <tbody>\n",
              "    <tr>\n",
              "      <th id=\"T_2fbd2_level0_row0\" class=\"row_heading level0 row0\" >False</th>\n",
              "      <td id=\"T_2fbd2_row0_col0\" class=\"data row0 col0\" >2</td>\n",
              "      <td id=\"T_2fbd2_row0_col1\" class=\"data row0 col1\" >1</td>\n",
              "      <td id=\"T_2fbd2_row0_col2\" class=\"data row0 col2\" >1</td>\n",
              "      <td id=\"T_2fbd2_row0_col3\" class=\"data row0 col3\" >17</td>\n",
              "      <td id=\"T_2fbd2_row0_col4\" class=\"data row0 col4\" >64</td>\n",
              "      <td id=\"T_2fbd2_row0_col5\" class=\"data row0 col5\" >183</td>\n",
              "      <td id=\"T_2fbd2_row0_col6\" class=\"data row0 col6\" >62</td>\n",
              "      <td id=\"T_2fbd2_row0_col7\" class=\"data row0 col7\" >0</td>\n",
              "      <td id=\"T_2fbd2_row0_col8\" class=\"data row0 col8\" >2</td>\n",
              "    </tr>\n",
              "    <tr>\n",
              "      <th id=\"T_2fbd2_level0_row1\" class=\"row_heading level0 row1\" >True</th>\n",
              "      <td id=\"T_2fbd2_row1_col0\" class=\"data row1 col0\" >0</td>\n",
              "      <td id=\"T_2fbd2_row1_col1\" class=\"data row1 col1\" >0</td>\n",
              "      <td id=\"T_2fbd2_row1_col2\" class=\"data row1 col2\" >0</td>\n",
              "      <td id=\"T_2fbd2_row1_col3\" class=\"data row1 col3\" >4</td>\n",
              "      <td id=\"T_2fbd2_row1_col4\" class=\"data row1 col4\" >14</td>\n",
              "      <td id=\"T_2fbd2_row1_col5\" class=\"data row1 col5\" >57</td>\n",
              "      <td id=\"T_2fbd2_row1_col6\" class=\"data row1 col6\" >10</td>\n",
              "      <td id=\"T_2fbd2_row1_col7\" class=\"data row1 col7\" >1</td>\n",
              "      <td id=\"T_2fbd2_row1_col8\" class=\"data row1 col8\" >0</td>\n",
              "    </tr>\n",
              "  </tbody>\n",
              "</table>\n"
            ]
          },
          "metadata": {},
          "execution_count": 154
        }
      ]
    },
    {
      "cell_type": "code",
      "source": [
        "널값은\n",
        "\n",
        "df_train\n",
        "\"Dr\", \"Mastar\", \"Miss\", \"Mrs\", \"Mr\"\n",
        "\n",
        "df_test\n",
        "Master\tMiss\tMr\tMrs\tMs"
      ],
      "metadata": {
        "id": "Q06ma1bh9b8e"
      },
      "execution_count": null,
      "outputs": []
    },
    {
      "cell_type": "code",
      "source": [
        "df_train.loc[(df_train.Age.isnull())&(df_train.Initial=='Dr'),'Age'] = df_train[df_train.Initial=='Dr']['Age'].mean()\n",
        "df_train.loc[(df_train.Age.isnull())&(df_train.Initial=='Master'),'Age'] = df_train[df_train.Initial=='Master']['Age'].mean()\n",
        "df_train.loc[(df_train.Age.isnull())&(df_train.Initial=='Miss'),'Age'] = df_train[df_train.Initial=='Miss']['Age'].mean()\n",
        "df_train.loc[(df_train.Age.isnull())&(df_train.Initial=='Mrs'),'Age'] = df_train[df_train.Initial=='Mrs']['Age'].mean()\n",
        "df_train.loc[(df_train.Age.isnull())&(df_train.Initial=='Mr'),'Age'] = df_train[df_train.Initial=='Mr']['Age'].mean()"
      ],
      "metadata": {
        "id": "lB1eLZM2Hi2h"
      },
      "execution_count": 171,
      "outputs": []
    },
    {
      "cell_type": "code",
      "source": [
        "df_test.loc[(df_test.Age.isnull())&(df_test.Initial=='Master'),'Age'] = df_test[df_test.Initial=='Master']['Age'].mean()\n",
        "df_test.loc[(df_test.Age.isnull())&(df_test.Initial=='Miss'),'Age'] = df_test[df_test.Initial=='Miss']['Age'].mean()\n",
        "df_test.loc[(df_test.Age.isnull())&(df_test.Initial=='Mr'),'Age'] = df_test[df_test.Initial=='Mr']['Age'].mean()\n",
        "df_test.loc[(df_test.Age.isnull())&(df_test.Initial=='Mrs'),'Age'] = df_test[df_test.Initial=='Mrs']['Age'].mean()\n",
        "df_test.loc[(df_test.Age.isnull())&(df_test.Initial=='Ms'),'Age'] = df_train[df_train.Initial=='Ms']['Age'].mean()\n"
      ],
      "metadata": {
        "id": "Xg0_9mlMKTmQ"
      },
      "execution_count": 172,
      "outputs": []
    },
    {
      "cell_type": "code",
      "source": [
        " df_train[df_train.Initial=='Mr']['Age'].mean()"
      ],
      "metadata": {
        "id": "kJoqnJgzLWXL"
      },
      "execution_count": null,
      "outputs": []
    },
    {
      "cell_type": "markdown",
      "source": [
        ""
      ],
      "metadata": {
        "id": "3VnoPOnWG_oB"
      }
    },
    {
      "cell_type": "code",
      "source": [
        "pd.crosstab(df_train['Initial'], df_train['Age'].isnull()).T.style.background_gradient(\n",
        "\tcmap='summer_r')"
      ],
      "metadata": {
        "colab": {
          "base_uri": "https://localhost:8080/",
          "height": 112
        },
        "id": "6fKBEA0lFYVT",
        "outputId": "a7998100-598a-4471-8584-150aaefdc381"
      },
      "execution_count": 173,
      "outputs": [
        {
          "output_type": "execute_result",
          "data": {
            "text/plain": [
              "<pandas.io.formats.style.Styler at 0x7fbd4f943210>"
            ],
            "text/html": [
              "<style type=\"text/css\">\n",
              "#T_bf190_row0_col0, #T_bf190_row0_col1, #T_bf190_row0_col2, #T_bf190_row0_col3, #T_bf190_row0_col4, #T_bf190_row0_col5, #T_bf190_row0_col6, #T_bf190_row0_col7, #T_bf190_row0_col8, #T_bf190_row0_col9, #T_bf190_row0_col10, #T_bf190_row0_col11, #T_bf190_row0_col12, #T_bf190_row0_col13, #T_bf190_row0_col14, #T_bf190_row0_col15, #T_bf190_row0_col16 {\n",
              "  background-color: #ffff66;\n",
              "  color: #000000;\n",
              "}\n",
              "</style>\n",
              "<table id=\"T_bf190_\" class=\"dataframe\">\n",
              "  <thead>\n",
              "    <tr>\n",
              "      <th class=\"index_name level0\" >Initial</th>\n",
              "      <th class=\"col_heading level0 col0\" >Capt</th>\n",
              "      <th class=\"col_heading level0 col1\" >Col</th>\n",
              "      <th class=\"col_heading level0 col2\" >Countess</th>\n",
              "      <th class=\"col_heading level0 col3\" >Don</th>\n",
              "      <th class=\"col_heading level0 col4\" >Dr</th>\n",
              "      <th class=\"col_heading level0 col5\" >Jonkheer</th>\n",
              "      <th class=\"col_heading level0 col6\" >Lady</th>\n",
              "      <th class=\"col_heading level0 col7\" >Major</th>\n",
              "      <th class=\"col_heading level0 col8\" >Master</th>\n",
              "      <th class=\"col_heading level0 col9\" >Miss</th>\n",
              "      <th class=\"col_heading level0 col10\" >Mlle</th>\n",
              "      <th class=\"col_heading level0 col11\" >Mme</th>\n",
              "      <th class=\"col_heading level0 col12\" >Mr</th>\n",
              "      <th class=\"col_heading level0 col13\" >Mrs</th>\n",
              "      <th class=\"col_heading level0 col14\" >Ms</th>\n",
              "      <th class=\"col_heading level0 col15\" >Rev</th>\n",
              "      <th class=\"col_heading level0 col16\" >Sir</th>\n",
              "    </tr>\n",
              "    <tr>\n",
              "      <th class=\"index_name level0\" >Age</th>\n",
              "      <th class=\"blank col0\" >&nbsp;</th>\n",
              "      <th class=\"blank col1\" >&nbsp;</th>\n",
              "      <th class=\"blank col2\" >&nbsp;</th>\n",
              "      <th class=\"blank col3\" >&nbsp;</th>\n",
              "      <th class=\"blank col4\" >&nbsp;</th>\n",
              "      <th class=\"blank col5\" >&nbsp;</th>\n",
              "      <th class=\"blank col6\" >&nbsp;</th>\n",
              "      <th class=\"blank col7\" >&nbsp;</th>\n",
              "      <th class=\"blank col8\" >&nbsp;</th>\n",
              "      <th class=\"blank col9\" >&nbsp;</th>\n",
              "      <th class=\"blank col10\" >&nbsp;</th>\n",
              "      <th class=\"blank col11\" >&nbsp;</th>\n",
              "      <th class=\"blank col12\" >&nbsp;</th>\n",
              "      <th class=\"blank col13\" >&nbsp;</th>\n",
              "      <th class=\"blank col14\" >&nbsp;</th>\n",
              "      <th class=\"blank col15\" >&nbsp;</th>\n",
              "      <th class=\"blank col16\" >&nbsp;</th>\n",
              "    </tr>\n",
              "  </thead>\n",
              "  <tbody>\n",
              "    <tr>\n",
              "      <th id=\"T_bf190_level0_row0\" class=\"row_heading level0 row0\" >False</th>\n",
              "      <td id=\"T_bf190_row0_col0\" class=\"data row0 col0\" >1</td>\n",
              "      <td id=\"T_bf190_row0_col1\" class=\"data row0 col1\" >2</td>\n",
              "      <td id=\"T_bf190_row0_col2\" class=\"data row0 col2\" >1</td>\n",
              "      <td id=\"T_bf190_row0_col3\" class=\"data row0 col3\" >1</td>\n",
              "      <td id=\"T_bf190_row0_col4\" class=\"data row0 col4\" >7</td>\n",
              "      <td id=\"T_bf190_row0_col5\" class=\"data row0 col5\" >1</td>\n",
              "      <td id=\"T_bf190_row0_col6\" class=\"data row0 col6\" >1</td>\n",
              "      <td id=\"T_bf190_row0_col7\" class=\"data row0 col7\" >2</td>\n",
              "      <td id=\"T_bf190_row0_col8\" class=\"data row0 col8\" >40</td>\n",
              "      <td id=\"T_bf190_row0_col9\" class=\"data row0 col9\" >182</td>\n",
              "      <td id=\"T_bf190_row0_col10\" class=\"data row0 col10\" >2</td>\n",
              "      <td id=\"T_bf190_row0_col11\" class=\"data row0 col11\" >1</td>\n",
              "      <td id=\"T_bf190_row0_col12\" class=\"data row0 col12\" >517</td>\n",
              "      <td id=\"T_bf190_row0_col13\" class=\"data row0 col13\" >125</td>\n",
              "      <td id=\"T_bf190_row0_col14\" class=\"data row0 col14\" >1</td>\n",
              "      <td id=\"T_bf190_row0_col15\" class=\"data row0 col15\" >6</td>\n",
              "      <td id=\"T_bf190_row0_col16\" class=\"data row0 col16\" >1</td>\n",
              "    </tr>\n",
              "  </tbody>\n",
              "</table>\n"
            ]
          },
          "metadata": {},
          "execution_count": 173
        }
      ]
    },
    {
      "cell_type": "code",
      "source": [
        "pd.crosstab(df_test['Initial'], df_test['Age'].isnull()).T.style.background_gradient(\n",
        "\tcmap='summer_r')"
      ],
      "metadata": {
        "colab": {
          "base_uri": "https://localhost:8080/",
          "height": 112
        },
        "id": "GouNJHMQK2N0",
        "outputId": "c4c75f42-8747-4a9d-aba1-3ed02d477f7a"
      },
      "execution_count": 174,
      "outputs": [
        {
          "output_type": "execute_result",
          "data": {
            "text/plain": [
              "<pandas.io.formats.style.Styler at 0x7fbd4f902110>"
            ],
            "text/html": [
              "<style type=\"text/css\">\n",
              "#T_2b3bc_row0_col0, #T_2b3bc_row0_col1, #T_2b3bc_row0_col2, #T_2b3bc_row0_col3, #T_2b3bc_row0_col4, #T_2b3bc_row0_col5, #T_2b3bc_row0_col6, #T_2b3bc_row0_col7, #T_2b3bc_row0_col8 {\n",
              "  background-color: #ffff66;\n",
              "  color: #000000;\n",
              "}\n",
              "</style>\n",
              "<table id=\"T_2b3bc_\" class=\"dataframe\">\n",
              "  <thead>\n",
              "    <tr>\n",
              "      <th class=\"index_name level0\" >Initial</th>\n",
              "      <th class=\"col_heading level0 col0\" >Col</th>\n",
              "      <th class=\"col_heading level0 col1\" >Dona</th>\n",
              "      <th class=\"col_heading level0 col2\" >Dr</th>\n",
              "      <th class=\"col_heading level0 col3\" >Master</th>\n",
              "      <th class=\"col_heading level0 col4\" >Miss</th>\n",
              "      <th class=\"col_heading level0 col5\" >Mr</th>\n",
              "      <th class=\"col_heading level0 col6\" >Mrs</th>\n",
              "      <th class=\"col_heading level0 col7\" >Ms</th>\n",
              "      <th class=\"col_heading level0 col8\" >Rev</th>\n",
              "    </tr>\n",
              "    <tr>\n",
              "      <th class=\"index_name level0\" >Age</th>\n",
              "      <th class=\"blank col0\" >&nbsp;</th>\n",
              "      <th class=\"blank col1\" >&nbsp;</th>\n",
              "      <th class=\"blank col2\" >&nbsp;</th>\n",
              "      <th class=\"blank col3\" >&nbsp;</th>\n",
              "      <th class=\"blank col4\" >&nbsp;</th>\n",
              "      <th class=\"blank col5\" >&nbsp;</th>\n",
              "      <th class=\"blank col6\" >&nbsp;</th>\n",
              "      <th class=\"blank col7\" >&nbsp;</th>\n",
              "      <th class=\"blank col8\" >&nbsp;</th>\n",
              "    </tr>\n",
              "  </thead>\n",
              "  <tbody>\n",
              "    <tr>\n",
              "      <th id=\"T_2b3bc_level0_row0\" class=\"row_heading level0 row0\" >False</th>\n",
              "      <td id=\"T_2b3bc_row0_col0\" class=\"data row0 col0\" >2</td>\n",
              "      <td id=\"T_2b3bc_row0_col1\" class=\"data row0 col1\" >1</td>\n",
              "      <td id=\"T_2b3bc_row0_col2\" class=\"data row0 col2\" >1</td>\n",
              "      <td id=\"T_2b3bc_row0_col3\" class=\"data row0 col3\" >21</td>\n",
              "      <td id=\"T_2b3bc_row0_col4\" class=\"data row0 col4\" >78</td>\n",
              "      <td id=\"T_2b3bc_row0_col5\" class=\"data row0 col5\" >240</td>\n",
              "      <td id=\"T_2b3bc_row0_col6\" class=\"data row0 col6\" >72</td>\n",
              "      <td id=\"T_2b3bc_row0_col7\" class=\"data row0 col7\" >1</td>\n",
              "      <td id=\"T_2b3bc_row0_col8\" class=\"data row0 col8\" >2</td>\n",
              "    </tr>\n",
              "  </tbody>\n",
              "</table>\n"
            ]
          },
          "metadata": {},
          "execution_count": 174
        }
      ]
    },
    {
      "cell_type": "markdown",
      "source": [
        "clear"
      ],
      "metadata": {
        "id": "zZDiMt7SLxs-"
      }
    },
    {
      "cell_type": "markdown",
      "source": [
        "# Fill Null in Embarked"
      ],
      "metadata": {
        "id": "tPugSErBM-6m"
      }
    },
    {
      "cell_type": "code",
      "source": [
        "print('Embarked has ', sum(df_train['Embarked'].isnull()), ' Null values')"
      ],
      "metadata": {
        "colab": {
          "base_uri": "https://localhost:8080/"
        },
        "id": "D85QKYsLL0Hd",
        "outputId": "479c8804-4391-4ff3-f09d-b8ff94dc67bd"
      },
      "execution_count": 175,
      "outputs": [
        {
          "output_type": "stream",
          "name": "stdout",
          "text": [
            "Embarked has  2  Null values\n"
          ]
        }
      ]
    },
    {
      "cell_type": "code",
      "source": [
        "df_train['Embarked'].fillna('S', inplace=True)"
      ],
      "metadata": {
        "id": "jBQD0LbRNV8R"
      },
      "execution_count": 176,
      "outputs": []
    },
    {
      "cell_type": "code",
      "source": [
        "msg = 'Embarkedt// NaN value: {:.2f}%'.format( 100 * (df_train['Embarked'].isnull().sum() / df_train['Embarked'].shape[0]))\n",
        "print(msg)"
      ],
      "metadata": {
        "colab": {
          "base_uri": "https://localhost:8080/"
        },
        "id": "CcEN6P_tOU0P",
        "outputId": "89eeceef-5962-42e6-e228-5705daf75893"
      },
      "execution_count": 184,
      "outputs": [
        {
          "output_type": "stream",
          "name": "stdout",
          "text": [
            "Embarkedt// NaN value: 0.00%\n"
          ]
        }
      ]
    },
    {
      "cell_type": "markdown",
      "source": [
        "# Change Age(continuous to categorical)"
      ],
      "metadata": {
        "id": "HTgmbklhPpbb"
      }
    },
    {
      "cell_type": "code",
      "source": [
        " df_train['Age_cat'] = 0\n",
        "df_train.loc[df_train['Age'] < 10, 'Age_cat'] = 0\n",
        "df_train.loc[(10 <= df_train['Age']) & (df_train['Age'] < 20), 'Age_cat'] = 1\n",
        "df_train.loc[(20 <= df_train['Age']) & (df_train['Age'] < 30), 'Age_cat'] = 2\n",
        "df_train.loc[(30 <= df_train['Age']) & (df_train['Age'] < 40), 'Age_cat'] = 3\n",
        "df_train.loc[(40 <= df_train['Age']) & (df_train['Age'] < 50), 'Age_cat'] = 4\n",
        "df_train.loc[(50 <= df_train['Age']) & (df_train['Age'] < 60), 'Age_cat'] = 5\n",
        "df_train.loc[(60 <= df_train['Age']) & (df_train['Age'] < 70), 'Age_cat'] = 6\n",
        "df_train.loc[70 <= df_train['Age'], 'Age_cat'] = 7\n",
        "\n",
        "df_test['Age_cat'] = 0\n",
        "df_test.loc[df_test['Age'] < 10, 'Age_cat'] = 0\n",
        "df_test.loc[(10 <= df_test['Age']) & (df_test['Age'] < 20), 'Age_cat'] = 1\n",
        "df_test.loc[(20 <= df_test['Age']) & (df_test['Age'] < 30), 'Age_cat'] = 2\n",
        "df_test.loc[(30 <= df_test['Age']) & (df_test['Age'] < 40), 'Age_cat'] = 3\n",
        "df_test.loc[(40 <= df_test['Age']) & (df_test['Age'] < 50), 'Age_cat'] = 4\n",
        "df_test.loc[(50 <= df_test['Age']) & (df_test['Age'] < 60), 'Age_cat'] = 5\n",
        "df_test.loc[(60 <= df_test['Age']) & (df_test['Age'] < 70), 'Age_cat'] = 6\n",
        "df_test.loc[70 <= df_test['Age'], 'Age_cat'] = 7"
      ],
      "metadata": {
        "id": "u_MMC8lLPrIT"
      },
      "execution_count": 186,
      "outputs": []
    },
    {
      "cell_type": "code",
      "source": [
        "def category_age(x):\n",
        "    if x < 10:\n",
        "        return 0\n",
        "    elif x < 20:\n",
        "        return 1\n",
        "    elif x < 30:\n",
        "        return 2\n",
        "    elif x < 40:\n",
        "        return 3\n",
        "    elif x < 50:\n",
        "        return 4\n",
        "    elif x < 60:\n",
        "        return 5\n",
        "    elif x < 70:\n",
        "        return 6\n",
        "    else:\n",
        "        return 7\n",
        "\n",
        "df_train['Age_cat_2'] = df_train['Age'].apply(category_age)"
      ],
      "metadata": {
        "id": "EpLCyl53U7Dy"
      },
      "execution_count": 188,
      "outputs": []
    },
    {
      "cell_type": "code",
      "source": [
        "print('1번 방법, 2번 방법 둘 다 같은 결과를 내면 True를 줍니다. => ', (\n",
        "\tdf_train['Age_cat'] == df_train['Age_cat_2']).all())"
      ],
      "metadata": {
        "colab": {
          "base_uri": "https://localhost:8080/"
        },
        "id": "h9ZwESO-U918",
        "outputId": "e305a30a-2a96-4357-8c19-ffac1a367ea4"
      },
      "execution_count": 189,
      "outputs": [
        {
          "output_type": "stream",
          "name": "stdout",
          "text": [
            "1번 방법, 2번 방법 둘 다 같은 결과를 내면 True를 줍니다. =>  True\n"
          ]
        }
      ]
    },
    {
      "cell_type": "code",
      "source": [
        "df_train.drop(['Age', 'Age_cat_2'], axis = 1, inplace = True)\n",
        "df_test.drop(['Age'], axis = 1, inplace = True)"
      ],
      "metadata": {
        "id": "p93Iy7M_U1qP"
      },
      "execution_count": 190,
      "outputs": []
    },
    {
      "cell_type": "markdown",
      "source": [
        "# Change Initial, Embarked and Sex (string to numerical)"
      ],
      "metadata": {
        "id": "lwKJmk4ZYxfQ"
      }
    },
    {
      "cell_type": "code",
      "source": [
        "df_train['Initial'] = df_train['Initial'].map({'Miss':0,'Mr':1,'Mrs':2,'Ms':3,'Master':4,'Col':5,'Dona':6,'Dr':7\n",
        "                                               ,'Capt':7,'Countess':8,'Don':9,'Jonkheer':10,'Lady':11,'Major':12,'Mlle':13,'Mme':14\n",
        "                                               ,'Rev':15,'Sir':16})\n",
        "df_test['Initial'] = df_test['Initial'].map({'Miss':0,'Mr':1,'Mrs':2,'Ms':3,'Master':4,'Col':5,'Dona':6,'Dr':7})"
      ],
      "metadata": {
        "id": "Q9xuBumgXUCG"
      },
      "execution_count": null,
      "outputs": []
    },
    {
      "cell_type": "code",
      "source": [
        "df_train['Embarked'].unique()"
      ],
      "metadata": {
        "colab": {
          "base_uri": "https://localhost:8080/"
        },
        "id": "zr_Ne5kGVIJA",
        "outputId": "4ff119fc-045f-4972-e3d5-a682fce6d5c4"
      },
      "execution_count": 192,
      "outputs": [
        {
          "output_type": "execute_result",
          "data": {
            "text/plain": [
              "array(['S', 'C', 'Q'], dtype=object)"
            ]
          },
          "metadata": {},
          "execution_count": 192
        }
      ]
    },
    {
      "cell_type": "code",
      "source": [
        "df_train['Embarked'] = df_train['Embarked'].map({'C':0, 'Q':1, 'S':2})\n",
        "df_test['Embarked'] = df_test['Embarked'].map({'C':0, 'Q':1, 'S':2})"
      ],
      "metadata": {
        "id": "i8PedWsnY-3M"
      },
      "execution_count": 193,
      "outputs": []
    },
    {
      "cell_type": "code",
      "source": [
        "df_train['Embarked'].isnull().any()"
      ],
      "metadata": {
        "colab": {
          "base_uri": "https://localhost:8080/"
        },
        "id": "NgHNOQ6rZBvk",
        "outputId": "239055ca-ed4d-4c46-889f-e796f2ee0de9"
      },
      "execution_count": 194,
      "outputs": [
        {
          "output_type": "execute_result",
          "data": {
            "text/plain": [
              "False"
            ]
          },
          "metadata": {},
          "execution_count": 194
        }
      ]
    },
    {
      "cell_type": "code",
      "source": [
        "df_train['Sex'] = df_train['Sex'].map({'female':0, 'male':1})\n",
        "df_test['Sex'] = df_test['Sex'].map({'female':0, 'male':1})"
      ],
      "metadata": {
        "id": "EZf24kVNZELV"
      },
      "execution_count": 195,
      "outputs": []
    },
    {
      "cell_type": "code",
      "source": [
        "df_train['FamilySize'] = df_train['SibSp'] + df_train['Parch'] + 1\n",
        "df_test['FamilySize'] = df_test['SibSp'] + df_test['Parch'] + 1"
      ],
      "metadata": {
        "id": "Unvah1d-ZdIZ"
      },
      "execution_count": 197,
      "outputs": []
    },
    {
      "cell_type": "code",
      "source": [
        "heatmap_data = df_train[['Survived', 'Pclass', 'Sex', 'Fare', 'Embarked',\t'FamilySize', 'Initial', 'Age_cat']]\n",
        "    \n",
        "colormap = plt.cm.RdBu\n",
        "plt.figure(figsize=(14, 12))\n",
        "plt.title('Pearson Correlation of Features', y=1.05, size=15)\n",
        "sns.heatmap(heatmap_data.astype(float).corr(), linewidths=0.1, vmax=1.0,square=True, cmap=colormap, linecolor='white', annot=True,annot_kws={\"size\":16})\n",
        "    \n",
        "del heatmap_data"
      ],
      "metadata": {
        "colab": {
          "base_uri": "https://localhost:8080/",
          "height": 863
        },
        "id": "f71QCRyGZI18",
        "outputId": "f369a3a6-3ae4-4620-f118-df67d7e701b6"
      },
      "execution_count": 198,
      "outputs": [
        {
          "output_type": "display_data",
          "data": {
            "text/plain": [
              "<Figure size 1008x864 with 2 Axes>"
            ],
            "image/png": "[encoded data removed]"
          },
          "metadata": {
            "needs_background": "light"
          }
        }
      ]
    },
    {
      "cell_type": "code",
      "source": [
        "df_train = pd.get_dummies(df_train, columns=['Initial'], prefix='Initial')\n",
        "df_test = pd.get_dummies(df_test, columns=['Initial'], prefix='Initial')"
      ],
      "metadata": {
        "id": "uTGY1kJlbC5S"
      },
      "execution_count": 199,
      "outputs": []
    },
    {
      "cell_type": "code",
      "source": [
        "df_train.head()"
      ],
      "metadata": {
        "colab": {
          "base_uri": "https://localhost:8080/",
          "height": 577
        },
        "id": "JT2JipMnbFHv",
        "outputId": "993a1ede-141a-4175-e58d-90a5a876a8c2"
      },
      "execution_count": 200,
      "outputs": [
        {
          "output_type": "execute_result",
          "data": {
            "text/plain": [
              "   PassengerId  Survived  Pclass  \\\n",
              "0            1         0       3   \n",
              "1            2         1       1   \n",
              "2            3         1       3   \n",
              "3            4         1       1   \n",
              "4            5         0       3   \n",
              "\n",
              "                                                Name  Sex  SibSp  Parch  \\\n",
              "0                            Braund, Mr. Owen Harris    1      1      0   \n",
              "1  Cumings, Mrs. John Bradley (Florence Briggs Th...    0      1      0   \n",
              "2                             Heikkinen, Miss. Laina    0      0      0   \n",
              "3       Futrelle, Mrs. Jacques Heath (Lily May Peel)    0      1      0   \n",
              "4                           Allen, Mr. William Henry    1      0      0   \n",
              "\n",
              "             Ticket      Fare Cabin  ...  Initial_7  Initial_8  Initial_9  \\\n",
              "0         A/5 21171  1.981001   NaN  ...          0          0          0   \n",
              "1          PC 17599  4.266662   C85  ...          0          0          0   \n",
              "2  STON/O2. 3101282  2.070022   NaN  ...          0          0          0   \n",
              "3            113803  3.972177  C123  ...          0          0          0   \n",
              "4            373450  2.085672   NaN  ...          0          0          0   \n",
              "\n",
              "   Initial_10  Initial_11  Initial_12  Initial_13  Initial_14  Initial_15  \\\n",
              "0           0           0           0           0           0           0   \n",
              "1           0           0           0           0           0           0   \n",
              "2           0           0           0           0           0           0   \n",
              "3           0           0           0           0           0           0   \n",
              "4           0           0           0           0           0           0   \n",
              "\n",
              "   Initial_16  \n",
              "0           0  \n",
              "1           0  \n",
              "2           0  \n",
              "3           0  \n",
              "4           0  \n",
              "\n",
              "[5 rows x 29 columns]"
            ],
            "text/html": [
              "\n",
              "  <div id=\"df-66cb2c1b-4903-47b2-9c76-1007cd031565\">\n",
              "    <div class=\"colab-df-container\">\n",
              "      <div>\n",
              "<style scoped>\n",
              "    .dataframe tbody tr th:only-of-type {\n",
              "        vertical-align: middle;\n",
              "    }\n",
              "\n",
              "    .dataframe tbody tr th {\n",
              "        vertical-align: top;\n",
              "    }\n",
              "\n",
              "    .dataframe thead th {\n",
              "        text-align: right;\n",
              "    }\n",
              "</style>\n",
              "<table border=\"1\" class=\"dataframe\">\n",
              "  <thead>\n",
              "    <tr style=\"text-align: right;\">\n",
              "      <th></th>\n",
              "      <th>PassengerId</th>\n",
              "      <th>Survived</th>\n",
              "      <th>Pclass</th>\n",
              "      <th>Name</th>\n",
              "      <th>Sex</th>\n",
              "      <th>SibSp</th>\n",
              "      <th>Parch</th>\n",
              "      <th>Ticket</th>\n",
              "      <th>Fare</th>\n",
              "      <th>Cabin</th>\n",
              "      <th>...</th>\n",
              "      <th>Initial_7</th>\n",
              "      <th>Initial_8</th>\n",
              "      <th>Initial_9</th>\n",
              "      <th>Initial_10</th>\n",
              "      <th>Initial_11</th>\n",
              "      <th>Initial_12</th>\n",
              "      <th>Initial_13</th>\n",
              "      <th>Initial_14</th>\n",
              "      <th>Initial_15</th>\n",
              "      <th>Initial_16</th>\n",
              "    </tr>\n",
              "  </thead>\n",
              "  <tbody>\n",
              "    <tr>\n",
              "      <th>0</th>\n",
              "      <td>1</td>\n",
              "      <td>0</td>\n",
              "      <td>3</td>\n",
              "      <td>Braund, Mr. Owen Harris</td>\n",
              "      <td>1</td>\n",
              "      <td>1</td>\n",
              "      <td>0</td>\n",
              "      <td>A/5 21171</td>\n",
              "      <td>1.981001</td>\n",
              "      <td>NaN</td>\n",
              "      <td>...</td>\n",
              "      <td>0</td>\n",
              "      <td>0</td>\n",
              "      <td>0</td>\n",
              "      <td>0</td>\n",
              "      <td>0</td>\n",
              "      <td>0</td>\n",
              "      <td>0</td>\n",
              "      <td>0</td>\n",
              "      <td>0</td>\n",
              "      <td>0</td>\n",
              "    </tr>\n",
              "    <tr>\n",
              "      <th>1</th>\n",
              "      <td>2</td>\n",
              "      <td>1</td>\n",
              "      <td>1</td>\n",
              "      <td>Cumings, Mrs. John Bradley (Florence Briggs Th...</td>\n",
              "      <td>0</td>\n",
              "      <td>1</td>\n",
              "      <td>0</td>\n",
              "      <td>PC 17599</td>\n",
              "      <td>4.266662</td>\n",
              "      <td>C85</td>\n",
              "      <td>...</td>\n",
              "      <td>0</td>\n",
              "      <td>0</td>\n",
              "      <td>0</td>\n",
              "      <td>0</td>\n",
              "      <td>0</td>\n",
              "      <td>0</td>\n",
              "      <td>0</td>\n",
              "      <td>0</td>\n",
              "      <td>0</td>\n",
              "      <td>0</td>\n",
              "    </tr>\n",
              "    <tr>\n",
              "      <th>2</th>\n",
              "      <td>3</td>\n",
              "      <td>1</td>\n",
              "      <td>3</td>\n",
              "      <td>Heikkinen, Miss. Laina</td>\n",
              "      <td>0</td>\n",
              "      <td>0</td>\n",
              "      <td>0</td>\n",
              "      <td>STON/O2. 3101282</td>\n",
              "      <td>2.070022</td>\n",
              "      <td>NaN</td>\n",
              "      <td>...</td>\n",
              "      <td>0</td>\n",
              "      <td>0</td>\n",
              "      <td>0</td>\n",
              "      <td>0</td>\n",
              "      <td>0</td>\n",
              "      <td>0</td>\n",
              "      <td>0</td>\n",
              "      <td>0</td>\n",
              "      <td>0</td>\n",
              "      <td>0</td>\n",
              "    </tr>\n",
              "    <tr>\n",
              "      <th>3</th>\n",
              "      <td>4</td>\n",
              "      <td>1</td>\n",
              "      <td>1</td>\n",
              "      <td>Futrelle, Mrs. Jacques Heath (Lily May Peel)</td>\n",
              "      <td>0</td>\n",
              "      <td>1</td>\n",
              "      <td>0</td>\n",
              "      <td>113803</td>\n",
              "      <td>3.972177</td>\n",
              "      <td>C123</td>\n",
              "      <td>...</td>\n",
              "      <td>0</td>\n",
              "      <td>0</td>\n",
              "      <td>0</td>\n",
              "      <td>0</td>\n",
              "      <td>0</td>\n",
              "      <td>0</td>\n",
              "      <td>0</td>\n",
              "      <td>0</td>\n",
              "      <td>0</td>\n",
              "      <td>0</td>\n",
              "    </tr>\n",
              "    <tr>\n",
              "      <th>4</th>\n",
              "      <td>5</td>\n",
              "      <td>0</td>\n",
              "      <td>3</td>\n",
              "      <td>Allen, Mr. William Henry</td>\n",
              "      <td>1</td>\n",
              "      <td>0</td>\n",
              "      <td>0</td>\n",
              "      <td>373450</td>\n",
              "      <td>2.085672</td>\n",
              "      <td>NaN</td>\n",
              "      <td>...</td>\n",
              "      <td>0</td>\n",
              "      <td>0</td>\n",
              "      <td>0</td>\n",
              "      <td>0</td>\n",
              "      <td>0</td>\n",
              "      <td>0</td>\n",
              "      <td>0</td>\n",
              "      <td>0</td>\n",
              "      <td>0</td>\n",
              "      <td>0</td>\n",
              "    </tr>\n",
              "  </tbody>\n",
              "</table>\n",
              "<p>5 rows × 29 columns</p>\n",
              "</div>\n",
              "      <button class=\"colab-df-convert\" onclick=\"convertToInteractive('df-66cb2c1b-4903-47b2-9c76-1007cd031565')\"\n",
              "              title=\"Convert this dataframe to an interactive table.\"\n",
              "              style=\"display:none;\">\n",
              "        \n",
              "  <svg xmlns=\"http://www.w3.org/2000/svg\" height=\"24px\"viewBox=\"0 0 24 24\"\n",
              "       width=\"24px\">\n",
              "    <path d=\"M0 0h24v24H0V0z\" fill=\"none\"/>\n",
              "    <path d=\"M18.56 5.44l.94 2.06.94-2.06 2.06-.94-2.06-.94-.94-2.06-.94 2.06-2.06.94zm-11 1L8.5 8.5l.94-2.06 2.06-.94-2.06-.94L8.5 2.5l-.94 2.06-2.06.94zm10 10l.94 2.06.94-2.06 2.06-.94-2.06-.94-.94-2.06-.94 2.06-2.06.94z\"/><path d=\"M17.41 7.96l-1.37-1.37c-.4-.4-.92-.59-1.43-.59-.52 0-1.04.2-1.43.59L10.3 9.45l-7.72 7.72c-.78.78-.78 2.05 0 2.83L4 21.41c.39.39.9.59 1.41.59.51 0 1.02-.2 1.41-.59l7.78-7.78 2.81-2.81c.8-.78.8-2.07 0-2.86zM5.41 20L4 18.59l7.72-7.72 1.47 1.35L5.41 20z\"/>\n",
              "  </svg>\n",
              "      </button>\n",
              "      \n",
              "  <style>\n",
              "    .colab-df-container {\n",
              "      display:flex;\n",
              "      flex-wrap:wrap;\n",
              "      gap: 12px;\n",
              "    }\n",
              "\n",
              "    .colab-df-convert {\n",
              "      background-color: #E8F0FE;\n",
              "      border: none;\n",
              "      border-radius: 50%;\n",
              "      cursor: pointer;\n",
              "      display: none;\n",
              "      fill: #1967D2;\n",
              "      height: 32px;\n",
              "      padding: 0 0 0 0;\n",
              "      width: 32px;\n",
              "    }\n",
              "\n",
              "    .colab-df-convert:hover {\n",
              "      background-color: #E2EBFA;\n",
              "      box-shadow: 0px 1px 2px rgba(60, 64, 67, 0.3), 0px 1px 3px 1px rgba(60, 64, 67, 0.15);\n",
              "      fill: #174EA6;\n",
              "    }\n",
              "\n",
              "    [theme=dark] .colab-df-convert {\n",
              "      background-color: #3B4455;\n",
              "      fill: #D2E3FC;\n",
              "    }\n",
              "\n",
              "    [theme=dark] .colab-df-convert:hover {\n",
              "      background-color: #434B5C;\n",
              "      box-shadow: 0px 1px 3px 1px rgba(0, 0, 0, 0.15);\n",
              "      filter: drop-shadow(0px 1px 2px rgba(0, 0, 0, 0.3));\n",
              "      fill: #FFFFFF;\n",
              "    }\n",
              "  </style>\n",
              "\n",
              "      <script>\n",
              "        const buttonEl =\n",
              "          document.querySelector('#df-66cb2c1b-4903-47b2-9c76-1007cd031565 button.colab-df-convert');\n",
              "        buttonEl.style.display =\n",
              "          google.colab.kernel.accessAllowed ? 'block' : 'none';\n",
              "\n",
              "        async function convertToInteractive(key) {\n",
              "          const element = document.querySelector('#df-66cb2c1b-4903-47b2-9c76-1007cd031565');\n",
              "          const dataTable =\n",
              "            await google.colab.kernel.invokeFunction('convertToInteractive',\n",
              "                                                     [key], {});\n",
              "          if (!dataTable) return;\n",
              "\n",
              "          const docLinkHtml = 'Like what you see? Visit the ' +\n",
              "            '<a target=\"_blank\" href=https://colab.research.google.com/notebooks/data_table.ipynb>data table notebook</a>'\n",
              "            + ' to learn more about interactive tables.';\n",
              "          element.innerHTML = '';\n",
              "          dataTable['output_type'] = 'display_data';\n",
              "          await google.colab.output.renderOutput(dataTable, element);\n",
              "          const docLink = document.createElement('div');\n",
              "          docLink.innerHTML = docLinkHtml;\n",
              "          element.appendChild(docLink);\n",
              "        }\n",
              "      </script>\n",
              "    </div>\n",
              "  </div>\n",
              "  "
            ]
          },
          "metadata": {},
          "execution_count": 200
        }
      ]
    },
    {
      "cell_type": "code",
      "source": [
        "df_train = pd.get_dummies(df_train, columns=['Embarked'], prefix='Embarked')\n",
        "df_test = pd.get_dummies(df_test, columns=['Embarked'], prefix='Embarked')"
      ],
      "metadata": {
        "id": "zABuwpntbMki"
      },
      "execution_count": 201,
      "outputs": []
    },
    {
      "cell_type": "code",
      "source": [
        ""
      ],
      "metadata": {
        "id": "NMkdPFmsbVAl"
      },
      "execution_count": null,
      "outputs": []
    },
    {
      "cell_type": "markdown",
      "source": [
        "# Drop columns!!\n",
        "필요한거 말곤 정리하기"
      ],
      "metadata": {
        "id": "EkN640q3bWEq"
      }
    },
    {
      "cell_type": "code",
      "source": [
        "df_train.drop(['PassengerId', 'Name', 'SibSp', 'Parch', 'Ticket', 'Cabin'], axis = 1, inplace=True)\n",
        "df_test.drop(['PassengerId', 'Name', 'SibSp', 'Parch', 'Ticket', 'Cabin'], axis = 1, inplace=True)"
      ],
      "metadata": {
        "id": "zt-AmbS6beHy"
      },
      "execution_count": 202,
      "outputs": []
    },
    {
      "cell_type": "code",
      "source": [
        "df_train.head()"
      ],
      "metadata": {
        "colab": {
          "base_uri": "https://localhost:8080/",
          "height": 299
        },
        "id": "gOKImWwxbhUg",
        "outputId": "1d4d7e67-db52-463c-8d43-569364dca4db"
      },
      "execution_count": 203,
      "outputs": [
        {
          "output_type": "execute_result",
          "data": {
            "text/plain": [
              "   Survived  Pclass  Sex      Fare  Age_cat  FamilySize  Initial_0  Initial_1  \\\n",
              "0         0       3    1  1.981001        2           2          0          1   \n",
              "1         1       1    0  4.266662        3           2          0          0   \n",
              "2         1       3    0  2.070022        2           1          1          0   \n",
              "3         1       1    0  3.972177        3           2          0          0   \n",
              "4         0       3    1  2.085672        3           1          0          1   \n",
              "\n",
              "   Initial_2  Initial_3  ...  Initial_10  Initial_11  Initial_12  Initial_13  \\\n",
              "0          0          0  ...           0           0           0           0   \n",
              "1          1          0  ...           0           0           0           0   \n",
              "2          0          0  ...           0           0           0           0   \n",
              "3          1          0  ...           0           0           0           0   \n",
              "4          0          0  ...           0           0           0           0   \n",
              "\n",
              "   Initial_14  Initial_15  Initial_16  Embarked_0  Embarked_1  Embarked_2  \n",
              "0           0           0           0           0           0           1  \n",
              "1           0           0           0           1           0           0  \n",
              "2           0           0           0           0           0           1  \n",
              "3           0           0           0           0           0           1  \n",
              "4           0           0           0           0           0           1  \n",
              "\n",
              "[5 rows x 25 columns]"
            ],
            "text/html": [
              "\n",
              "  <div id=\"df-ecf147a8-f382-405b-b393-16eb763dd739\">\n",
              "    <div class=\"colab-df-container\">\n",
              "      <div>\n",
              "<style scoped>\n",
              "    .dataframe tbody tr th:only-of-type {\n",
              "        vertical-align: middle;\n",
              "    }\n",
              "\n",
              "    .dataframe tbody tr th {\n",
              "        vertical-align: top;\n",
              "    }\n",
              "\n",
              "    .dataframe thead th {\n",
              "        text-align: right;\n",
              "    }\n",
              "</style>\n",
              "<table border=\"1\" class=\"dataframe\">\n",
              "  <thead>\n",
              "    <tr style=\"text-align: right;\">\n",
              "      <th></th>\n",
              "      <th>Survived</th>\n",
              "      <th>Pclass</th>\n",
              "      <th>Sex</th>\n",
              "      <th>Fare</th>\n",
              "      <th>Age_cat</th>\n",
              "      <th>FamilySize</th>\n",
              "      <th>Initial_0</th>\n",
              "      <th>Initial_1</th>\n",
              "      <th>Initial_2</th>\n",
              "      <th>Initial_3</th>\n",
              "      <th>...</th>\n",
              "      <th>Initial_10</th>\n",
              "      <th>Initial_11</th>\n",
              "      <th>Initial_12</th>\n",
              "      <th>Initial_13</th>\n",
              "      <th>Initial_14</th>\n",
              "      <th>Initial_15</th>\n",
              "      <th>Initial_16</th>\n",
              "      <th>Embarked_0</th>\n",
              "      <th>Embarked_1</th>\n",
              "      <th>Embarked_2</th>\n",
              "    </tr>\n",
              "  </thead>\n",
              "  <tbody>\n",
              "    <tr>\n",
              "      <th>0</th>\n",
              "      <td>0</td>\n",
              "      <td>3</td>\n",
              "      <td>1</td>\n",
              "      <td>1.981001</td>\n",
              "      <td>2</td>\n",
              "      <td>2</td>\n",
              "      <td>0</td>\n",
              "      <td>1</td>\n",
              "      <td>0</td>\n",
              "      <td>0</td>\n",
              "      <td>...</td>\n",
              "      <td>0</td>\n",
              "      <td>0</td>\n",
              "      <td>0</td>\n",
              "      <td>0</td>\n",
              "      <td>0</td>\n",
              "      <td>0</td>\n",
              "      <td>0</td>\n",
              "      <td>0</td>\n",
              "      <td>0</td>\n",
              "      <td>1</td>\n",
              "    </tr>\n",
              "    <tr>\n",
              "      <th>1</th>\n",
              "      <td>1</td>\n",
              "      <td>1</td>\n",
              "      <td>0</td>\n",
              "      <td>4.266662</td>\n",
              "      <td>3</td>\n",
              "      <td>2</td>\n",
              "      <td>0</td>\n",
              "      <td>0</td>\n",
              "      <td>1</td>\n",
              "      <td>0</td>\n",
              "      <td>...</td>\n",
              "      <td>0</td>\n",
              "      <td>0</td>\n",
              "      <td>0</td>\n",
              "      <td>0</td>\n",
              "      <td>0</td>\n",
              "      <td>0</td>\n",
              "      <td>0</td>\n",
              "      <td>1</td>\n",
              "      <td>0</td>\n",
              "      <td>0</td>\n",
              "    </tr>\n",
              "    <tr>\n",
              "      <th>2</th>\n",
              "      <td>1</td>\n",
              "      <td>3</td>\n",
              "      <td>0</td>\n",
              "      <td>2.070022</td>\n",
              "      <td>2</td>\n",
              "      <td>1</td>\n",
              "      <td>1</td>\n",
              "      <td>0</td>\n",
              "      <td>0</td>\n",
              "      <td>0</td>\n",
              "      <td>...</td>\n",
              "      <td>0</td>\n",
              "      <td>0</td>\n",
              "      <td>0</td>\n",
              "      <td>0</td>\n",
              "      <td>0</td>\n",
              "      <td>0</td>\n",
              "      <td>0</td>\n",
              "      <td>0</td>\n",
              "      <td>0</td>\n",
              "      <td>1</td>\n",
              "    </tr>\n",
              "    <tr>\n",
              "      <th>3</th>\n",
              "      <td>1</td>\n",
              "      <td>1</td>\n",
              "      <td>0</td>\n",
              "      <td>3.972177</td>\n",
              "      <td>3</td>\n",
              "      <td>2</td>\n",
              "      <td>0</td>\n",
              "      <td>0</td>\n",
              "      <td>1</td>\n",
              "      <td>0</td>\n",
              "      <td>...</td>\n",
              "      <td>0</td>\n",
              "      <td>0</td>\n",
              "      <td>0</td>\n",
              "      <td>0</td>\n",
              "      <td>0</td>\n",
              "      <td>0</td>\n",
              "      <td>0</td>\n",
              "      <td>0</td>\n",
              "      <td>0</td>\n",
              "      <td>1</td>\n",
              "    </tr>\n",
              "    <tr>\n",
              "      <th>4</th>\n",
              "      <td>0</td>\n",
              "      <td>3</td>\n",
              "      <td>1</td>\n",
              "      <td>2.085672</td>\n",
              "      <td>3</td>\n",
              "      <td>1</td>\n",
              "      <td>0</td>\n",
              "      <td>1</td>\n",
              "      <td>0</td>\n",
              "      <td>0</td>\n",
              "      <td>...</td>\n",
              "      <td>0</td>\n",
              "      <td>0</td>\n",
              "      <td>0</td>\n",
              "      <td>0</td>\n",
              "      <td>0</td>\n",
              "      <td>0</td>\n",
              "      <td>0</td>\n",
              "      <td>0</td>\n",
              "      <td>0</td>\n",
              "      <td>1</td>\n",
              "    </tr>\n",
              "  </tbody>\n",
              "</table>\n",
              "<p>5 rows × 25 columns</p>\n",
              "</div>\n",
              "      <button class=\"colab-df-convert\" onclick=\"convertToInteractive('df-ecf147a8-f382-405b-b393-16eb763dd739')\"\n",
              "              title=\"Convert this dataframe to an interactive table.\"\n",
              "              style=\"display:none;\">\n",
              "        \n",
              "  <svg xmlns=\"http://www.w3.org/2000/svg\" height=\"24px\"viewBox=\"0 0 24 24\"\n",
              "       width=\"24px\">\n",
              "    <path d=\"M0 0h24v24H0V0z\" fill=\"none\"/>\n",
              "    <path d=\"M18.56 5.44l.94 2.06.94-2.06 2.06-.94-2.06-.94-.94-2.06-.94 2.06-2.06.94zm-11 1L8.5 8.5l.94-2.06 2.06-.94-2.06-.94L8.5 2.5l-.94 2.06-2.06.94zm10 10l.94 2.06.94-2.06 2.06-.94-2.06-.94-.94-2.06-.94 2.06-2.06.94z\"/><path d=\"M17.41 7.96l-1.37-1.37c-.4-.4-.92-.59-1.43-.59-.52 0-1.04.2-1.43.59L10.3 9.45l-7.72 7.72c-.78.78-.78 2.05 0 2.83L4 21.41c.39.39.9.59 1.41.59.51 0 1.02-.2 1.41-.59l7.78-7.78 2.81-2.81c.8-.78.8-2.07 0-2.86zM5.41 20L4 18.59l7.72-7.72 1.47 1.35L5.41 20z\"/>\n",
              "  </svg>\n",
              "      </button>\n",
              "      \n",
              "  <style>\n",
              "    .colab-df-container {\n",
              "      display:flex;\n",
              "      flex-wrap:wrap;\n",
              "      gap: 12px;\n",
              "    }\n",
              "\n",
              "    .colab-df-convert {\n",
              "      background-color: #E8F0FE;\n",
              "      border: none;\n",
              "      border-radius: 50%;\n",
              "      cursor: pointer;\n",
              "      display: none;\n",
              "      fill: #1967D2;\n",
              "      height: 32px;\n",
              "      padding: 0 0 0 0;\n",
              "      width: 32px;\n",
              "    }\n",
              "\n",
              "    .colab-df-convert:hover {\n",
              "      background-color: #E2EBFA;\n",
              "      box-shadow: 0px 1px 2px rgba(60, 64, 67, 0.3), 0px 1px 3px 1px rgba(60, 64, 67, 0.15);\n",
              "      fill: #174EA6;\n",
              "    }\n",
              "\n",
              "    [theme=dark] .colab-df-convert {\n",
              "      background-color: #3B4455;\n",
              "      fill: #D2E3FC;\n",
              "    }\n",
              "\n",
              "    [theme=dark] .colab-df-convert:hover {\n",
              "      background-color: #434B5C;\n",
              "      box-shadow: 0px 1px 3px 1px rgba(0, 0, 0, 0.15);\n",
              "      filter: drop-shadow(0px 1px 2px rgba(0, 0, 0, 0.3));\n",
              "      fill: #FFFFFF;\n",
              "    }\n",
              "  </style>\n",
              "\n",
              "      <script>\n",
              "        const buttonEl =\n",
              "          document.querySelector('#df-ecf147a8-f382-405b-b393-16eb763dd739 button.colab-df-convert');\n",
              "        buttonEl.style.display =\n",
              "          google.colab.kernel.accessAllowed ? 'block' : 'none';\n",
              "\n",
              "        async function convertToInteractive(key) {\n",
              "          const element = document.querySelector('#df-ecf147a8-f382-405b-b393-16eb763dd739');\n",
              "          const dataTable =\n",
              "            await google.colab.kernel.invokeFunction('convertToInteractive',\n",
              "                                                     [key], {});\n",
              "          if (!dataTable) return;\n",
              "\n",
              "          const docLinkHtml = 'Like what you see? Visit the ' +\n",
              "            '<a target=\"_blank\" href=https://colab.research.google.com/notebooks/data_table.ipynb>data table notebook</a>'\n",
              "            + ' to learn more about interactive tables.';\n",
              "          element.innerHTML = '';\n",
              "          dataTable['output_type'] = 'display_data';\n",
              "          await google.colab.output.renderOutput(dataTable, element);\n",
              "          const docLink = document.createElement('div');\n",
              "          docLink.innerHTML = docLinkHtml;\n",
              "          element.appendChild(docLink);\n",
              "        }\n",
              "      </script>\n",
              "    </div>\n",
              "  </div>\n",
              "  "
            ]
          },
          "metadata": {},
          "execution_count": 203
        }
      ]
    },
    {
      "cell_type": "code",
      "source": [
        "df_test.head()"
      ],
      "metadata": {
        "colab": {
          "base_uri": "https://localhost:8080/",
          "height": 270
        },
        "id": "s3AweOyhbkvw",
        "outputId": "150c84fd-385a-48c6-eefc-eebaa4975f50"
      },
      "execution_count": 204,
      "outputs": [
        {
          "output_type": "execute_result",
          "data": {
            "text/plain": [
              "   Pclass  Sex      Fare  Age_cat  FamilySize  Initial_0.0  Initial_1.0  \\\n",
              "0       3    1  2.057860        3           1            0            1   \n",
              "1       3    0  1.945910        4           2            0            0   \n",
              "2       2    1  2.270836        6           1            0            1   \n",
              "3       3    1  2.159003        2           1            0            1   \n",
              "4       3    0  2.508582        2           3            0            0   \n",
              "\n",
              "   Initial_2.0  Initial_3.0  Initial_4.0  Initial_5.0  Initial_6.0  \\\n",
              "0            0            0            0            0            0   \n",
              "1            1            0            0            0            0   \n",
              "2            0            0            0            0            0   \n",
              "3            0            0            0            0            0   \n",
              "4            1            0            0            0            0   \n",
              "\n",
              "   Initial_7.0  Embarked_0  Embarked_1  Embarked_2  \n",
              "0            0           0           1           0  \n",
              "1            0           0           0           1  \n",
              "2            0           0           1           0  \n",
              "3            0           0           0           1  \n",
              "4            0           0           0           1  "
            ],
            "text/html": [
              "\n",
              "  <div id=\"df-a3ecd4d2-3947-4c35-8df7-3af43c8071f8\">\n",
              "    <div class=\"colab-df-container\">\n",
              "      <div>\n",
              "<style scoped>\n",
              "    .dataframe tbody tr th:only-of-type {\n",
              "        vertical-align: middle;\n",
              "    }\n",
              "\n",
              "    .dataframe tbody tr th {\n",
              "        vertical-align: top;\n",
              "    }\n",
              "\n",
              "    .dataframe thead th {\n",
              "        text-align: right;\n",
              "    }\n",
              "</style>\n",
              "<table border=\"1\" class=\"dataframe\">\n",
              "  <thead>\n",
              "    <tr style=\"text-align: right;\">\n",
              "      <th></th>\n",
              "      <th>Pclass</th>\n",
              "      <th>Sex</th>\n",
              "      <th>Fare</th>\n",
              "      <th>Age_cat</th>\n",
              "      <th>FamilySize</th>\n",
              "      <th>Initial_0.0</th>\n",
              "      <th>Initial_1.0</th>\n",
              "      <th>Initial_2.0</th>\n",
              "      <th>Initial_3.0</th>\n",
              "      <th>Initial_4.0</th>\n",
              "      <th>Initial_5.0</th>\n",
              "      <th>Initial_6.0</th>\n",
              "      <th>Initial_7.0</th>\n",
              "      <th>Embarked_0</th>\n",
              "      <th>Embarked_1</th>\n",
              "      <th>Embarked_2</th>\n",
              "    </tr>\n",
              "  </thead>\n",
              "  <tbody>\n",
              "    <tr>\n",
              "      <th>0</th>\n",
              "      <td>3</td>\n",
              "      <td>1</td>\n",
              "      <td>2.057860</td>\n",
              "      <td>3</td>\n",
              "      <td>1</td>\n",
              "      <td>0</td>\n",
              "      <td>1</td>\n",
              "      <td>0</td>\n",
              "      <td>0</td>\n",
              "      <td>0</td>\n",
              "      <td>0</td>\n",
              "      <td>0</td>\n",
              "      <td>0</td>\n",
              "      <td>0</td>\n",
              "      <td>1</td>\n",
              "      <td>0</td>\n",
              "    </tr>\n",
              "    <tr>\n",
              "      <th>1</th>\n",
              "      <td>3</td>\n",
              "      <td>0</td>\n",
              "      <td>1.945910</td>\n",
              "      <td>4</td>\n",
              "      <td>2</td>\n",
              "      <td>0</td>\n",
              "      <td>0</td>\n",
              "      <td>1</td>\n",
              "      <td>0</td>\n",
              "      <td>0</td>\n",
              "      <td>0</td>\n",
              "      <td>0</td>\n",
              "      <td>0</td>\n",
              "      <td>0</td>\n",
              "      <td>0</td>\n",
              "      <td>1</td>\n",
              "    </tr>\n",
              "    <tr>\n",
              "      <th>2</th>\n",
              "      <td>2</td>\n",
              "      <td>1</td>\n",
              "      <td>2.270836</td>\n",
              "      <td>6</td>\n",
              "      <td>1</td>\n",
              "      <td>0</td>\n",
              "      <td>1</td>\n",
              "      <td>0</td>\n",
              "      <td>0</td>\n",
              "      <td>0</td>\n",
              "      <td>0</td>\n",
              "      <td>0</td>\n",
              "      <td>0</td>\n",
              "      <td>0</td>\n",
              "      <td>1</td>\n",
              "      <td>0</td>\n",
              "    </tr>\n",
              "    <tr>\n",
              "      <th>3</th>\n",
              "      <td>3</td>\n",
              "      <td>1</td>\n",
              "      <td>2.159003</td>\n",
              "      <td>2</td>\n",
              "      <td>1</td>\n",
              "      <td>0</td>\n",
              "      <td>1</td>\n",
              "      <td>0</td>\n",
              "      <td>0</td>\n",
              "      <td>0</td>\n",
              "      <td>0</td>\n",
              "      <td>0</td>\n",
              "      <td>0</td>\n",
              "      <td>0</td>\n",
              "      <td>0</td>\n",
              "      <td>1</td>\n",
              "    </tr>\n",
              "    <tr>\n",
              "      <th>4</th>\n",
              "      <td>3</td>\n",
              "      <td>0</td>\n",
              "      <td>2.508582</td>\n",
              "      <td>2</td>\n",
              "      <td>3</td>\n",
              "      <td>0</td>\n",
              "      <td>0</td>\n",
              "      <td>1</td>\n",
              "      <td>0</td>\n",
              "      <td>0</td>\n",
              "      <td>0</td>\n",
              "      <td>0</td>\n",
              "      <td>0</td>\n",
              "      <td>0</td>\n",
              "      <td>0</td>\n",
              "      <td>1</td>\n",
              "    </tr>\n",
              "  </tbody>\n",
              "</table>\n",
              "</div>\n",
              "      <button class=\"colab-df-convert\" onclick=\"convertToInteractive('df-a3ecd4d2-3947-4c35-8df7-3af43c8071f8')\"\n",
              "              title=\"Convert this dataframe to an interactive table.\"\n",
              "              style=\"display:none;\">\n",
              "        \n",
              "  <svg xmlns=\"http://www.w3.org/2000/svg\" height=\"24px\"viewBox=\"0 0 24 24\"\n",
              "       width=\"24px\">\n",
              "    <path d=\"M0 0h24v24H0V0z\" fill=\"none\"/>\n",
              "    <path d=\"M18.56 5.44l.94 2.06.94-2.06 2.06-.94-2.06-.94-.94-2.06-.94 2.06-2.06.94zm-11 1L8.5 8.5l.94-2.06 2.06-.94-2.06-.94L8.5 2.5l-.94 2.06-2.06.94zm10 10l.94 2.06.94-2.06 2.06-.94-2.06-.94-.94-2.06-.94 2.06-2.06.94z\"/><path d=\"M17.41 7.96l-1.37-1.37c-.4-.4-.92-.59-1.43-.59-.52 0-1.04.2-1.43.59L10.3 9.45l-7.72 7.72c-.78.78-.78 2.05 0 2.83L4 21.41c.39.39.9.59 1.41.59.51 0 1.02-.2 1.41-.59l7.78-7.78 2.81-2.81c.8-.78.8-2.07 0-2.86zM5.41 20L4 18.59l7.72-7.72 1.47 1.35L5.41 20z\"/>\n",
              "  </svg>\n",
              "      </button>\n",
              "      \n",
              "  <style>\n",
              "    .colab-df-container {\n",
              "      display:flex;\n",
              "      flex-wrap:wrap;\n",
              "      gap: 12px;\n",
              "    }\n",
              "\n",
              "    .colab-df-convert {\n",
              "      background-color: #E8F0FE;\n",
              "      border: none;\n",
              "      border-radius: 50%;\n",
              "      cursor: pointer;\n",
              "      display: none;\n",
              "      fill: #1967D2;\n",
              "      height: 32px;\n",
              "      padding: 0 0 0 0;\n",
              "      width: 32px;\n",
              "    }\n",
              "\n",
              "    .colab-df-convert:hover {\n",
              "      background-color: #E2EBFA;\n",
              "      box-shadow: 0px 1px 2px rgba(60, 64, 67, 0.3), 0px 1px 3px 1px rgba(60, 64, 67, 0.15);\n",
              "      fill: #174EA6;\n",
              "    }\n",
              "\n",
              "    [theme=dark] .colab-df-convert {\n",
              "      background-color: #3B4455;\n",
              "      fill: #D2E3FC;\n",
              "    }\n",
              "\n",
              "    [theme=dark] .colab-df-convert:hover {\n",
              "      background-color: #434B5C;\n",
              "      box-shadow: 0px 1px 3px 1px rgba(0, 0, 0, 0.15);\n",
              "      filter: drop-shadow(0px 1px 2px rgba(0, 0, 0, 0.3));\n",
              "      fill: #FFFFFF;\n",
              "    }\n",
              "  </style>\n",
              "\n",
              "      <script>\n",
              "        const buttonEl =\n",
              "          document.querySelector('#df-a3ecd4d2-3947-4c35-8df7-3af43c8071f8 button.colab-df-convert');\n",
              "        buttonEl.style.display =\n",
              "          google.colab.kernel.accessAllowed ? 'block' : 'none';\n",
              "\n",
              "        async function convertToInteractive(key) {\n",
              "          const element = document.querySelector('#df-a3ecd4d2-3947-4c35-8df7-3af43c8071f8');\n",
              "          const dataTable =\n",
              "            await google.colab.kernel.invokeFunction('convertToInteractive',\n",
              "                                                     [key], {});\n",
              "          if (!dataTable) return;\n",
              "\n",
              "          const docLinkHtml = 'Like what you see? Visit the ' +\n",
              "            '<a target=\"_blank\" href=https://colab.research.google.com/notebooks/data_table.ipynb>data table notebook</a>'\n",
              "            + ' to learn more about interactive tables.';\n",
              "          element.innerHTML = '';\n",
              "          dataTable['output_type'] = 'display_data';\n",
              "          await google.colab.output.renderOutput(dataTable, element);\n",
              "          const docLink = document.createElement('div');\n",
              "          docLink.innerHTML = docLinkHtml;\n",
              "          element.appendChild(docLink);\n",
              "        }\n",
              "      </script>\n",
              "    </div>\n",
              "  </div>\n",
              "  "
            ]
          },
          "metadata": {},
          "execution_count": 204
        }
      ]
    },
    {
      "cell_type": "code",
      "source": [
        ""
      ],
      "metadata": {
        "id": "IrysLCTwbitr"
      },
      "execution_count": null,
      "outputs": []
    },
    {
      "cell_type": "markdown",
      "source": [
        "# Building machine learning model and prediction using the trained model"
      ],
      "metadata": {
        "id": "Tlu8KzD6br6h"
      }
    },
    {
      "cell_type": "code",
      "source": [
        "#importing all the required ML packages\n",
        "from sklearn.ensemble import RandomForestClassifier # 유명한 randomforestclassfier 입니다.\n",
        "from sklearn import metrics # 모델의 평가를 위해서 씁니다.\n",
        "from sklearn.model_selection import train_test_split # training set을 쉽게 나눠주는 함수입니다."
      ],
      "metadata": {
        "id": "LO_tu3EkbuF0"
      },
      "execution_count": 205,
      "outputs": []
    },
    {
      "cell_type": "code",
      "source": [
        "X_train = df_train.drop('Survived', axis=1).values\n",
        "# X_train에 'Survived' Column을 제외한 나머지들을 전부 values로 집어 넣는 것입니다.\n",
        "# values를 처리하면 array 형태로 변환됩니다.\n",
        "target_label = df_train['Survived'].values\n",
        "# target_label에 'Survived' values의 값만 넣는 것입니다.\n",
        "X_test = df_test.values"
      ],
      "metadata": {
        "id": "seIihMXbbyAg"
      },
      "execution_count": 206,
      "outputs": []
    },
    {
      "cell_type": "code",
      "source": [
        "X_tr, X_vld, y_tr, y_vld = train_test_split(X_train, target_label, test_size=0.3, random_state=2018)"
      ],
      "metadata": {
        "id": "iWCy2L4fcLpJ"
      },
      "execution_count": 207,
      "outputs": []
    },
    {
      "cell_type": "markdown",
      "source": [
        "# Model generation and prediction"
      ],
      "metadata": {
        "id": "nOB4C6KjcUuX"
      }
    },
    {
      "cell_type": "code",
      "source": [
        "model = RandomForestClassifier()\n",
        "model.fit(X_tr, y_tr)\n",
        "prediction = model.predict(X_vld)"
      ],
      "metadata": {
        "id": "7gfGOJn_cVqd"
      },
      "execution_count": 208,
      "outputs": []
    },
    {
      "cell_type": "code",
      "source": [
        "print('총 {}명 중 {:.2f}% 정확도로 생존을 맞춤'.format(y_vld.shape[0], 100 * metrics.accuracy_score(prediction, y_vld)))"
      ],
      "metadata": {
        "colab": {
          "base_uri": "https://localhost:8080/"
        },
        "id": "RKUrsp0IcYDz",
        "outputId": "229c38bc-b700-4656-d591-4bcf8cc5bfc4"
      },
      "execution_count": 209,
      "outputs": [
        {
          "output_type": "stream",
          "name": "stdout",
          "text": [
            "총 268명 중 82.09% 정확도로 생존을 맞춤\n"
          ]
        }
      ]
    },
    {
      "cell_type": "markdown",
      "source": [
        "# Feature importance"
      ],
      "metadata": {
        "id": "XoysJCSKcj4Y"
      }
    },
    {
      "cell_type": "code",
      "source": [
        "from pandas import Series\n",
        "\n",
        "feature_importance = model.feature_importances_\n",
        "Series_feat_imp = Series(feature_importance, index=df_train.columns)"
      ],
      "metadata": {
        "id": "nmm8NIsHchiq"
      },
      "execution_count": null,
      "outputs": []
    },
    {
      "cell_type": "code",
      "source": [
        ""
      ],
      "metadata": {
        "id": "ciOEngDIcoJi"
      },
      "execution_count": null,
      "outputs": []
    }
  ]
}