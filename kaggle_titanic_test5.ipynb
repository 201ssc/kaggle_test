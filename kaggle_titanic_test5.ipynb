{
  "nbformat": 4,
  "nbformat_minor": 0,
  "metadata": {
    "colab": {
      "name": "kaggle_titanic_test5.ipynb",
      "provenance": [],
      "collapsed_sections": [],
      "mount_file_id": "139WKiQfTGdNDW_-_Oo5qS_1Ac0oncsip",
      "authorship_tag": "ABX9TyMm7tWx1DDOdXZYh9S8Bp6l",
      "include_colab_link": true
    },
    "kernelspec": {
      "name": "python3",
      "display_name": "Python 3"
    },
    "language_info": {
      "name": "python"
    }
  },
  "cells": [
    {
      "cell_type": "markdown",
      "metadata": {
        "id": "view-in-github",
        "colab_type": "text"
      },
      "source": [
        "<a href=\"https://colab.research.google.com/github/201ssc/kaggle_test/blob/main/kaggle_titanic_test5.ipynb\" target=\"_parent\"><img src=\"https://colab.research.google.com/assets/colab-badge.svg\" alt=\"Open In Colab\"/></a>"
      ]
    },
    {
      "cell_type": "code",
      "execution_count": 147,
      "metadata": {
        "id": "kA1S1hrpXnZd"
      },
      "outputs": [],
      "source": [
        "import numpy as np\n",
        "import pandas as pd\n",
        "from pandas import Series\n",
        "import matplotlib.pyplot as plt\n",
        "import seaborn as sns\n",
        "\n",
        "plt.style.use('seaborn')\n",
        "sns.set(font_scale=2.5)\n",
        "\n",
        "# ignore warnings\n",
        "import warnings\n",
        "warnings.filterwarnings('ignore')\n",
        "\n",
        "%matplotlib inline\n",
        "\n",
        "df_test = pd.read_csv('/content/drive/MyDrive/Colab Notebooks/titanic/test.csv')\n",
        "df_train = pd.read_csv('/content/drive/MyDrive/Colab Notebooks/titanic/train.csv')"
      ]
    },
    {
      "cell_type": "code",
      "source": [
        "for col in df_train.columns:\n",
        "  m = df_train[col].isnull().sum() / df_train[col].shape[0] \n",
        "  print(\"columns :{:>10}\\t NaN values : {:0.2f}%\".format(col,m))"
      ],
      "metadata": {
        "colab": {
          "base_uri": "https://localhost:8080/"
        },
        "id": "rtTYF_eEYnMB",
        "outputId": "47f04339-335c-43ec-c882-e5934aeb7246"
      },
      "execution_count": 148,
      "outputs": [
        {
          "output_type": "stream",
          "name": "stdout",
          "text": [
            "columns :PassengerId\t NaN values : 0.00%\n",
            "columns :  Survived\t NaN values : 0.00%\n",
            "columns :    Pclass\t NaN values : 0.00%\n",
            "columns :      Name\t NaN values : 0.00%\n",
            "columns :       Sex\t NaN values : 0.00%\n",
            "columns :       Age\t NaN values : 0.20%\n",
            "columns :     SibSp\t NaN values : 0.00%\n",
            "columns :     Parch\t NaN values : 0.00%\n",
            "columns :    Ticket\t NaN values : 0.00%\n",
            "columns :      Fare\t NaN values : 0.00%\n",
            "columns :     Cabin\t NaN values : 0.77%\n",
            "columns :  Embarked\t NaN values : 0.00%\n"
          ]
        }
      ]
    },
    {
      "cell_type": "code",
      "source": [
        "for col in df_test.columns:\n",
        "  m = df_test[col].isnull().sum() / df_test[col].shape[0] \n",
        "  print(\"columns :{:>10}\\t NaN values : {:0.2f}%\".format(col,m))"
      ],
      "metadata": {
        "colab": {
          "base_uri": "https://localhost:8080/"
        },
        "id": "B_M6CnUTbiAZ",
        "outputId": "0ab3a19b-2186-4b69-dca1-de8e857f82dd"
      },
      "execution_count": 149,
      "outputs": [
        {
          "output_type": "stream",
          "name": "stdout",
          "text": [
            "columns :PassengerId\t NaN values : 0.00%\n",
            "columns :    Pclass\t NaN values : 0.00%\n",
            "columns :      Name\t NaN values : 0.00%\n",
            "columns :       Sex\t NaN values : 0.00%\n",
            "columns :       Age\t NaN values : 0.21%\n",
            "columns :     SibSp\t NaN values : 0.00%\n",
            "columns :     Parch\t NaN values : 0.00%\n",
            "columns :    Ticket\t NaN values : 0.00%\n",
            "columns :      Fare\t NaN values : 0.00%\n",
            "columns :     Cabin\t NaN values : 0.78%\n",
            "columns :  Embarked\t NaN values : 0.00%\n"
          ]
        }
      ]
    },
    {
      "cell_type": "code",
      "source": [
        "df_train['Fare'] = df_train['Fare'].map(lambda i: np.log(i) if i > 0 else 0)\n",
        "df_test['Fare'] = df_test['Fare'].map(lambda i: np.log(i) if i > 0 else 0)"
      ],
      "metadata": {
        "id": "wCRhq8lQdaIG"
      },
      "execution_count": 150,
      "outputs": []
    },
    {
      "cell_type": "markdown",
      "source": [
        "기본 값 정리, 연령 널값 제거, 티켓값 평탄화"
      ],
      "metadata": {
        "id": "yGvHrTLidkPw"
      }
    },
    {
      "cell_type": "code",
      "source": [
        "# 취소 연령 평균값, 좀 더 정확히 하기\n",
        "\n",
        "# df_test.loc[df_test.Age.isnull(), 'Age'] = round(df_test.Age.mean(), 2)\n",
        "# df_train.loc[df_train.Age.isnull(), 'Age'] = round(df_train.Age.mean(), 2)"
      ],
      "metadata": {
        "id": "AaQqTm15bR6y"
      },
      "execution_count": 137,
      "outputs": []
    },
    {
      "cell_type": "code",
      "source": [
        "df_train['Initial'] = df_train.Name.str.extract('([A-Za-z]+)\\.') # Lets extract the Salutations\n",
        "df_test['Initial'] = df_test.Name.str.extract('([A-Za-z]+)\\.') # Lets extract the Salutations"
      ],
      "metadata": {
        "id": "UhT1jzZHdjm8"
      },
      "execution_count": 151,
      "outputs": []
    },
    {
      "cell_type": "code",
      "source": [
        "pd.crosstab(df_train['Initial'], df_train['Sex']).T.style.background_gradient(\n",
        "\tcmap='summer_r') # Checking the Initials with the Sex"
      ],
      "metadata": {
        "colab": {
          "base_uri": "https://localhost:8080/",
          "height": 143
        },
        "id": "bPIp7i4p9NUT",
        "outputId": "4e6a37fc-a07b-48fd-97a7-7e268d0fda28"
      },
      "execution_count": 152,
      "outputs": [
        {
          "output_type": "execute_result",
          "data": {
            "text/plain": [
              "<pandas.io.formats.style.Styler at 0x7fbd4f8b7c10>"
            ],
            "text/html": [
              "<style type=\"text/css\">\n",
              "#T_e3a84_row0_col0, #T_e3a84_row0_col1, #T_e3a84_row0_col3, #T_e3a84_row0_col4, #T_e3a84_row0_col5, #T_e3a84_row0_col7, #T_e3a84_row0_col8, #T_e3a84_row0_col12, #T_e3a84_row0_col15, #T_e3a84_row0_col16, #T_e3a84_row1_col2, #T_e3a84_row1_col6, #T_e3a84_row1_col9, #T_e3a84_row1_col10, #T_e3a84_row1_col11, #T_e3a84_row1_col13, #T_e3a84_row1_col14 {\n",
              "  background-color: #ffff66;\n",
              "  color: #000000;\n",
              "}\n",
              "#T_e3a84_row0_col2, #T_e3a84_row0_col6, #T_e3a84_row0_col9, #T_e3a84_row0_col10, #T_e3a84_row0_col11, #T_e3a84_row0_col13, #T_e3a84_row0_col14, #T_e3a84_row1_col0, #T_e3a84_row1_col1, #T_e3a84_row1_col3, #T_e3a84_row1_col4, #T_e3a84_row1_col5, #T_e3a84_row1_col7, #T_e3a84_row1_col8, #T_e3a84_row1_col12, #T_e3a84_row1_col15, #T_e3a84_row1_col16 {\n",
              "  background-color: #008066;\n",
              "  color: #f1f1f1;\n",
              "}\n",
              "</style>\n",
              "<table id=\"T_e3a84_\" class=\"dataframe\">\n",
              "  <thead>\n",
              "    <tr>\n",
              "      <th class=\"index_name level0\" >Initial</th>\n",
              "      <th class=\"col_heading level0 col0\" >Capt</th>\n",
              "      <th class=\"col_heading level0 col1\" >Col</th>\n",
              "      <th class=\"col_heading level0 col2\" >Countess</th>\n",
              "      <th class=\"col_heading level0 col3\" >Don</th>\n",
              "      <th class=\"col_heading level0 col4\" >Dr</th>\n",
              "      <th class=\"col_heading level0 col5\" >Jonkheer</th>\n",
              "      <th class=\"col_heading level0 col6\" >Lady</th>\n",
              "      <th class=\"col_heading level0 col7\" >Major</th>\n",
              "      <th class=\"col_heading level0 col8\" >Master</th>\n",
              "      <th class=\"col_heading level0 col9\" >Miss</th>\n",
              "      <th class=\"col_heading level0 col10\" >Mlle</th>\n",
              "      <th class=\"col_heading level0 col11\" >Mme</th>\n",
              "      <th class=\"col_heading level0 col12\" >Mr</th>\n",
              "      <th class=\"col_heading level0 col13\" >Mrs</th>\n",
              "      <th class=\"col_heading level0 col14\" >Ms</th>\n",
              "      <th class=\"col_heading level0 col15\" >Rev</th>\n",
              "      <th class=\"col_heading level0 col16\" >Sir</th>\n",
              "    </tr>\n",
              "    <tr>\n",
              "      <th class=\"index_name level0\" >Sex</th>\n",
              "      <th class=\"blank col0\" >&nbsp;</th>\n",
              "      <th class=\"blank col1\" >&nbsp;</th>\n",
              "      <th class=\"blank col2\" >&nbsp;</th>\n",
              "      <th class=\"blank col3\" >&nbsp;</th>\n",
              "      <th class=\"blank col4\" >&nbsp;</th>\n",
              "      <th class=\"blank col5\" >&nbsp;</th>\n",
              "      <th class=\"blank col6\" >&nbsp;</th>\n",
              "      <th class=\"blank col7\" >&nbsp;</th>\n",
              "      <th class=\"blank col8\" >&nbsp;</th>\n",
              "      <th class=\"blank col9\" >&nbsp;</th>\n",
              "      <th class=\"blank col10\" >&nbsp;</th>\n",
              "      <th class=\"blank col11\" >&nbsp;</th>\n",
              "      <th class=\"blank col12\" >&nbsp;</th>\n",
              "      <th class=\"blank col13\" >&nbsp;</th>\n",
              "      <th class=\"blank col14\" >&nbsp;</th>\n",
              "      <th class=\"blank col15\" >&nbsp;</th>\n",
              "      <th class=\"blank col16\" >&nbsp;</th>\n",
              "    </tr>\n",
              "  </thead>\n",
              "  <tbody>\n",
              "    <tr>\n",
              "      <th id=\"T_e3a84_level0_row0\" class=\"row_heading level0 row0\" >female</th>\n",
              "      <td id=\"T_e3a84_row0_col0\" class=\"data row0 col0\" >0</td>\n",
              "      <td id=\"T_e3a84_row0_col1\" class=\"data row0 col1\" >0</td>\n",
              "      <td id=\"T_e3a84_row0_col2\" class=\"data row0 col2\" >1</td>\n",
              "      <td id=\"T_e3a84_row0_col3\" class=\"data row0 col3\" >0</td>\n",
              "      <td id=\"T_e3a84_row0_col4\" class=\"data row0 col4\" >1</td>\n",
              "      <td id=\"T_e3a84_row0_col5\" class=\"data row0 col5\" >0</td>\n",
              "      <td id=\"T_e3a84_row0_col6\" class=\"data row0 col6\" >1</td>\n",
              "      <td id=\"T_e3a84_row0_col7\" class=\"data row0 col7\" >0</td>\n",
              "      <td id=\"T_e3a84_row0_col8\" class=\"data row0 col8\" >0</td>\n",
              "      <td id=\"T_e3a84_row0_col9\" class=\"data row0 col9\" >182</td>\n",
              "      <td id=\"T_e3a84_row0_col10\" class=\"data row0 col10\" >2</td>\n",
              "      <td id=\"T_e3a84_row0_col11\" class=\"data row0 col11\" >1</td>\n",
              "      <td id=\"T_e3a84_row0_col12\" class=\"data row0 col12\" >0</td>\n",
              "      <td id=\"T_e3a84_row0_col13\" class=\"data row0 col13\" >125</td>\n",
              "      <td id=\"T_e3a84_row0_col14\" class=\"data row0 col14\" >1</td>\n",
              "      <td id=\"T_e3a84_row0_col15\" class=\"data row0 col15\" >0</td>\n",
              "      <td id=\"T_e3a84_row0_col16\" class=\"data row0 col16\" >0</td>\n",
              "    </tr>\n",
              "    <tr>\n",
              "      <th id=\"T_e3a84_level0_row1\" class=\"row_heading level0 row1\" >male</th>\n",
              "      <td id=\"T_e3a84_row1_col0\" class=\"data row1 col0\" >1</td>\n",
              "      <td id=\"T_e3a84_row1_col1\" class=\"data row1 col1\" >2</td>\n",
              "      <td id=\"T_e3a84_row1_col2\" class=\"data row1 col2\" >0</td>\n",
              "      <td id=\"T_e3a84_row1_col3\" class=\"data row1 col3\" >1</td>\n",
              "      <td id=\"T_e3a84_row1_col4\" class=\"data row1 col4\" >6</td>\n",
              "      <td id=\"T_e3a84_row1_col5\" class=\"data row1 col5\" >1</td>\n",
              "      <td id=\"T_e3a84_row1_col6\" class=\"data row1 col6\" >0</td>\n",
              "      <td id=\"T_e3a84_row1_col7\" class=\"data row1 col7\" >2</td>\n",
              "      <td id=\"T_e3a84_row1_col8\" class=\"data row1 col8\" >40</td>\n",
              "      <td id=\"T_e3a84_row1_col9\" class=\"data row1 col9\" >0</td>\n",
              "      <td id=\"T_e3a84_row1_col10\" class=\"data row1 col10\" >0</td>\n",
              "      <td id=\"T_e3a84_row1_col11\" class=\"data row1 col11\" >0</td>\n",
              "      <td id=\"T_e3a84_row1_col12\" class=\"data row1 col12\" >517</td>\n",
              "      <td id=\"T_e3a84_row1_col13\" class=\"data row1 col13\" >0</td>\n",
              "      <td id=\"T_e3a84_row1_col14\" class=\"data row1 col14\" >0</td>\n",
              "      <td id=\"T_e3a84_row1_col15\" class=\"data row1 col15\" >6</td>\n",
              "      <td id=\"T_e3a84_row1_col16\" class=\"data row1 col16\" >1</td>\n",
              "    </tr>\n",
              "  </tbody>\n",
              "</table>\n"
            ]
          },
          "metadata": {},
          "execution_count": 152
        }
      ]
    },
    {
      "cell_type": "code",
      "source": [
        "## 취소  \n",
        "# 단순하게 만들어 평균값을 넣어 줬지만 비효율적이다. \n",
        "\"\"\"\n",
        "1. 널이 아닌 값도 불필요한 계산이 들어간다.\n",
        "2. 지나친 단순화로 인해 널값들이 부정확하게 들어 갈 수 있다. \n",
        "\n",
        ">> 차라리 널에 해당하는 값들을 살펴본뒤 그들에 평균을 직접 넣는 것이 더 바람직하다.\n",
        "\n",
        "df_train['Initial'].replace(['Mlle', 'Mme', 'Ms', 'Dr', 'Major', 'Lady', 'Countess', 'Jonkheer',\n",
        "\t'Col', 'Rev', 'Capt', 'Sir', 'Don', 'Dona'],\n",
        "    \t['Miss', 'Miss', 'Miss', 'Mr', 'Mr', 'Mrs', 'Mrs', 'Other', 'Other', 'Other',\n",
        "        'Mr', 'Mr', 'Mr', 'Mr'], inplace = Ture)\n",
        "        \n",
        "df_test['Initial'].replace(['Mlle', 'Mme', 'Ms', 'Dr', 'Major', 'Lady', 'Countess', 'Jonkheer',\n",
        "\t'Col', 'Rev', 'Capt', 'Sir', 'Don', 'Dona'],\n",
        "    \t['Miss', 'Miss', 'Miss', 'Mr', 'Mr', 'Mrs', 'Mrs', 'Other', 'Other', 'Other',\n",
        "        'Mr', 'Mr', 'Mr', 'Mr'], inplace = Ture)\n",
        "\n",
        "\n",
        "df_train.loc[(df_train.Age.isnull())&(df_train.Initial=='Mr'),'Age'] = 33\n",
        "df_train.loc[(df_train.Age.isnull())&(df_train.Initial=='Mrs'),'Age'] = 36\n",
        "df_train.loc[(df_train.Age.isnull())&(df_train.Initial=='Master'),'Age'] = 5\n",
        "df_train.loc[(df_train.Age.isnull())&(df_train.Initial=='Miss'),'Age'] = 22\n",
        "df_train.loc[(df_train.Age.isnull())&(df_train.Initial=='Other'),'Age'] = 46\n",
        "\n",
        "# test의 값은 train 값을 기준으로 바꿔줍시다.\n",
        "df_test.loc[(df_test.Age.isnull())&(df_test.Initial=='Mr'),'Age'] = 33\n",
        "df_test.loc[(df_test.Age.isnull())&(df_test.Initial=='Mrs'),'Age'] = 36\n",
        "df_test.loc[(df_test.Age.isnull())&(df_test.Initial=='Master'),'Age'] = 5\n",
        "df_test.loc[(df_test.Age.isnull())&(df_test.Initial=='Miss'),'Age'] = 22\n",
        "df_test.loc[(df_test.Age.isnull())&(df_test.Initial=='Other'),'Age'] = 46\n",
        "\n",
        "# df.loc['A', 'B']가 있다면\n",
        "# 'A'는 행을 나타내고 'B'는 열(Label)을 나타냅니다.\n",
        "\n",
        "\"\"\""
      ],
      "metadata": {
        "id": "qSVQwkUAHeO6"
      },
      "execution_count": null,
      "outputs": []
    },
    {
      "cell_type": "code",
      "source": [
        "# 널값 찾기\n",
        "pd.crosstab(df_train['Initial'], df_train['Age'].isnull()).T.style.background_gradient(\n",
        "\tcmap='summer_r')"
      ],
      "metadata": {
        "colab": {
          "base_uri": "https://localhost:8080/",
          "height": 143
        },
        "id": "k7I-qHpAF-9b",
        "outputId": "f7435d90-027a-49e8-d8f0-9502619081fc"
      },
      "execution_count": 153,
      "outputs": [
        {
          "output_type": "execute_result",
          "data": {
            "text/plain": [
              "<pandas.io.formats.style.Styler at 0x7fbd4f8ad850>"
            ],
            "text/html": [
              "<style type=\"text/css\">\n",
              "#T_a0d65_row0_col0, #T_a0d65_row0_col1, #T_a0d65_row0_col2, #T_a0d65_row0_col3, #T_a0d65_row0_col4, #T_a0d65_row0_col5, #T_a0d65_row0_col6, #T_a0d65_row0_col7, #T_a0d65_row0_col8, #T_a0d65_row0_col9, #T_a0d65_row0_col10, #T_a0d65_row0_col11, #T_a0d65_row0_col12, #T_a0d65_row0_col13, #T_a0d65_row0_col14, #T_a0d65_row0_col15, #T_a0d65_row0_col16 {\n",
              "  background-color: #008066;\n",
              "  color: #f1f1f1;\n",
              "}\n",
              "#T_a0d65_row1_col0, #T_a0d65_row1_col1, #T_a0d65_row1_col2, #T_a0d65_row1_col3, #T_a0d65_row1_col4, #T_a0d65_row1_col5, #T_a0d65_row1_col6, #T_a0d65_row1_col7, #T_a0d65_row1_col8, #T_a0d65_row1_col9, #T_a0d65_row1_col10, #T_a0d65_row1_col11, #T_a0d65_row1_col12, #T_a0d65_row1_col13, #T_a0d65_row1_col14, #T_a0d65_row1_col15, #T_a0d65_row1_col16 {\n",
              "  background-color: #ffff66;\n",
              "  color: #000000;\n",
              "}\n",
              "</style>\n",
              "<table id=\"T_a0d65_\" class=\"dataframe\">\n",
              "  <thead>\n",
              "    <tr>\n",
              "      <th class=\"index_name level0\" >Initial</th>\n",
              "      <th class=\"col_heading level0 col0\" >Capt</th>\n",
              "      <th class=\"col_heading level0 col1\" >Col</th>\n",
              "      <th class=\"col_heading level0 col2\" >Countess</th>\n",
              "      <th class=\"col_heading level0 col3\" >Don</th>\n",
              "      <th class=\"col_heading level0 col4\" >Dr</th>\n",
              "      <th class=\"col_heading level0 col5\" >Jonkheer</th>\n",
              "      <th class=\"col_heading level0 col6\" >Lady</th>\n",
              "      <th class=\"col_heading level0 col7\" >Major</th>\n",
              "      <th class=\"col_heading level0 col8\" >Master</th>\n",
              "      <th class=\"col_heading level0 col9\" >Miss</th>\n",
              "      <th class=\"col_heading level0 col10\" >Mlle</th>\n",
              "      <th class=\"col_heading level0 col11\" >Mme</th>\n",
              "      <th class=\"col_heading level0 col12\" >Mr</th>\n",
              "      <th class=\"col_heading level0 col13\" >Mrs</th>\n",
              "      <th class=\"col_heading level0 col14\" >Ms</th>\n",
              "      <th class=\"col_heading level0 col15\" >Rev</th>\n",
              "      <th class=\"col_heading level0 col16\" >Sir</th>\n",
              "    </tr>\n",
              "    <tr>\n",
              "      <th class=\"index_name level0\" >Age</th>\n",
              "      <th class=\"blank col0\" >&nbsp;</th>\n",
              "      <th class=\"blank col1\" >&nbsp;</th>\n",
              "      <th class=\"blank col2\" >&nbsp;</th>\n",
              "      <th class=\"blank col3\" >&nbsp;</th>\n",
              "      <th class=\"blank col4\" >&nbsp;</th>\n",
              "      <th class=\"blank col5\" >&nbsp;</th>\n",
              "      <th class=\"blank col6\" >&nbsp;</th>\n",
              "      <th class=\"blank col7\" >&nbsp;</th>\n",
              "      <th class=\"blank col8\" >&nbsp;</th>\n",
              "      <th class=\"blank col9\" >&nbsp;</th>\n",
              "      <th class=\"blank col10\" >&nbsp;</th>\n",
              "      <th class=\"blank col11\" >&nbsp;</th>\n",
              "      <th class=\"blank col12\" >&nbsp;</th>\n",
              "      <th class=\"blank col13\" >&nbsp;</th>\n",
              "      <th class=\"blank col14\" >&nbsp;</th>\n",
              "      <th class=\"blank col15\" >&nbsp;</th>\n",
              "      <th class=\"blank col16\" >&nbsp;</th>\n",
              "    </tr>\n",
              "  </thead>\n",
              "  <tbody>\n",
              "    <tr>\n",
              "      <th id=\"T_a0d65_level0_row0\" class=\"row_heading level0 row0\" >False</th>\n",
              "      <td id=\"T_a0d65_row0_col0\" class=\"data row0 col0\" >1</td>\n",
              "      <td id=\"T_a0d65_row0_col1\" class=\"data row0 col1\" >2</td>\n",
              "      <td id=\"T_a0d65_row0_col2\" class=\"data row0 col2\" >1</td>\n",
              "      <td id=\"T_a0d65_row0_col3\" class=\"data row0 col3\" >1</td>\n",
              "      <td id=\"T_a0d65_row0_col4\" class=\"data row0 col4\" >6</td>\n",
              "      <td id=\"T_a0d65_row0_col5\" class=\"data row0 col5\" >1</td>\n",
              "      <td id=\"T_a0d65_row0_col6\" class=\"data row0 col6\" >1</td>\n",
              "      <td id=\"T_a0d65_row0_col7\" class=\"data row0 col7\" >2</td>\n",
              "      <td id=\"T_a0d65_row0_col8\" class=\"data row0 col8\" >36</td>\n",
              "      <td id=\"T_a0d65_row0_col9\" class=\"data row0 col9\" >146</td>\n",
              "      <td id=\"T_a0d65_row0_col10\" class=\"data row0 col10\" >2</td>\n",
              "      <td id=\"T_a0d65_row0_col11\" class=\"data row0 col11\" >1</td>\n",
              "      <td id=\"T_a0d65_row0_col12\" class=\"data row0 col12\" >398</td>\n",
              "      <td id=\"T_a0d65_row0_col13\" class=\"data row0 col13\" >108</td>\n",
              "      <td id=\"T_a0d65_row0_col14\" class=\"data row0 col14\" >1</td>\n",
              "      <td id=\"T_a0d65_row0_col15\" class=\"data row0 col15\" >6</td>\n",
              "      <td id=\"T_a0d65_row0_col16\" class=\"data row0 col16\" >1</td>\n",
              "    </tr>\n",
              "    <tr>\n",
              "      <th id=\"T_a0d65_level0_row1\" class=\"row_heading level0 row1\" >True</th>\n",
              "      <td id=\"T_a0d65_row1_col0\" class=\"data row1 col0\" >0</td>\n",
              "      <td id=\"T_a0d65_row1_col1\" class=\"data row1 col1\" >0</td>\n",
              "      <td id=\"T_a0d65_row1_col2\" class=\"data row1 col2\" >0</td>\n",
              "      <td id=\"T_a0d65_row1_col3\" class=\"data row1 col3\" >0</td>\n",
              "      <td id=\"T_a0d65_row1_col4\" class=\"data row1 col4\" >1</td>\n",
              "      <td id=\"T_a0d65_row1_col5\" class=\"data row1 col5\" >0</td>\n",
              "      <td id=\"T_a0d65_row1_col6\" class=\"data row1 col6\" >0</td>\n",
              "      <td id=\"T_a0d65_row1_col7\" class=\"data row1 col7\" >0</td>\n",
              "      <td id=\"T_a0d65_row1_col8\" class=\"data row1 col8\" >4</td>\n",
              "      <td id=\"T_a0d65_row1_col9\" class=\"data row1 col9\" >36</td>\n",
              "      <td id=\"T_a0d65_row1_col10\" class=\"data row1 col10\" >0</td>\n",
              "      <td id=\"T_a0d65_row1_col11\" class=\"data row1 col11\" >0</td>\n",
              "      <td id=\"T_a0d65_row1_col12\" class=\"data row1 col12\" >119</td>\n",
              "      <td id=\"T_a0d65_row1_col13\" class=\"data row1 col13\" >17</td>\n",
              "      <td id=\"T_a0d65_row1_col14\" class=\"data row1 col14\" >0</td>\n",
              "      <td id=\"T_a0d65_row1_col15\" class=\"data row1 col15\" >0</td>\n",
              "      <td id=\"T_a0d65_row1_col16\" class=\"data row1 col16\" >0</td>\n",
              "    </tr>\n",
              "  </tbody>\n",
              "</table>\n"
            ]
          },
          "metadata": {},
          "execution_count": 153
        }
      ]
    },
    {
      "cell_type": "code",
      "source": [
        "pd.crosstab(df_test['Initial'], df_test['Age'].isnull()).T.style.background_gradient(\n",
        "\tcmap='summer_r')"
      ],
      "metadata": {
        "colab": {
          "base_uri": "https://localhost:8080/",
          "height": 143
        },
        "id": "mTnMu1OaKEug",
        "outputId": "8d37fdbc-9041-438e-a45f-0076bb20d866"
      },
      "execution_count": 154,
      "outputs": [
        {
          "output_type": "execute_result",
          "data": {
            "text/plain": [
              "<pandas.io.formats.style.Styler at 0x7fbd4f8afad0>"
            ],
            "text/html": [
              "<style type=\"text/css\">\n",
              "#T_2fbd2_row0_col0, #T_2fbd2_row0_col1, #T_2fbd2_row0_col2, #T_2fbd2_row0_col3, #T_2fbd2_row0_col4, #T_2fbd2_row0_col5, #T_2fbd2_row0_col6, #T_2fbd2_row0_col8, #T_2fbd2_row1_col7 {\n",
              "  background-color: #008066;\n",
              "  color: #f1f1f1;\n",
              "}\n",
              "#T_2fbd2_row0_col7, #T_2fbd2_row1_col0, #T_2fbd2_row1_col1, #T_2fbd2_row1_col2, #T_2fbd2_row1_col3, #T_2fbd2_row1_col4, #T_2fbd2_row1_col5, #T_2fbd2_row1_col6, #T_2fbd2_row1_col8 {\n",
              "  background-color: #ffff66;\n",
              "  color: #000000;\n",
              "}\n",
              "</style>\n",
              "<table id=\"T_2fbd2_\" class=\"dataframe\">\n",
              "  <thead>\n",
              "    <tr>\n",
              "      <th class=\"index_name level0\" >Initial</th>\n",
              "      <th class=\"col_heading level0 col0\" >Col</th>\n",
              "      <th class=\"col_heading level0 col1\" >Dona</th>\n",
              "      <th class=\"col_heading level0 col2\" >Dr</th>\n",
              "      <th class=\"col_heading level0 col3\" >Master</th>\n",
              "      <th class=\"col_heading level0 col4\" >Miss</th>\n",
              "      <th class=\"col_heading level0 col5\" >Mr</th>\n",
              "      <th class=\"col_heading level0 col6\" >Mrs</th>\n",
              "      <th class=\"col_heading level0 col7\" >Ms</th>\n",
              "      <th class=\"col_heading level0 col8\" >Rev</th>\n",
              "    </tr>\n",
              "    <tr>\n",
              "      <th class=\"index_name level0\" >Age</th>\n",
              "      <th class=\"blank col0\" >&nbsp;</th>\n",
              "      <th class=\"blank col1\" >&nbsp;</th>\n",
              "      <th class=\"blank col2\" >&nbsp;</th>\n",
              "      <th class=\"blank col3\" >&nbsp;</th>\n",
              "      <th class=\"blank col4\" >&nbsp;</th>\n",
              "      <th class=\"blank col5\" >&nbsp;</th>\n",
              "      <th class=\"blank col6\" >&nbsp;</th>\n",
              "      <th class=\"blank col7\" >&nbsp;</th>\n",
              "      <th class=\"blank col8\" >&nbsp;</th>\n",
              "    </tr>\n",
              "  </thead>\n",
              "  <tbody>\n",
              "    <tr>\n",
              "      <th id=\"T_2fbd2_level0_row0\" class=\"row_heading level0 row0\" >False</th>\n",
              "      <td id=\"T_2fbd2_row0_col0\" class=\"data row0 col0\" >2</td>\n",
              "      <td id=\"T_2fbd2_row0_col1\" class=\"data row0 col1\" >1</td>\n",
              "      <td id=\"T_2fbd2_row0_col2\" class=\"data row0 col2\" >1</td>\n",
              "      <td id=\"T_2fbd2_row0_col3\" class=\"data row0 col3\" >17</td>\n",
              "      <td id=\"T_2fbd2_row0_col4\" class=\"data row0 col4\" >64</td>\n",
              "      <td id=\"T_2fbd2_row0_col5\" class=\"data row0 col5\" >183</td>\n",
              "      <td id=\"T_2fbd2_row0_col6\" class=\"data row0 col6\" >62</td>\n",
              "      <td id=\"T_2fbd2_row0_col7\" class=\"data row0 col7\" >0</td>\n",
              "      <td id=\"T_2fbd2_row0_col8\" class=\"data row0 col8\" >2</td>\n",
              "    </tr>\n",
              "    <tr>\n",
              "      <th id=\"T_2fbd2_level0_row1\" class=\"row_heading level0 row1\" >True</th>\n",
              "      <td id=\"T_2fbd2_row1_col0\" class=\"data row1 col0\" >0</td>\n",
              "      <td id=\"T_2fbd2_row1_col1\" class=\"data row1 col1\" >0</td>\n",
              "      <td id=\"T_2fbd2_row1_col2\" class=\"data row1 col2\" >0</td>\n",
              "      <td id=\"T_2fbd2_row1_col3\" class=\"data row1 col3\" >4</td>\n",
              "      <td id=\"T_2fbd2_row1_col4\" class=\"data row1 col4\" >14</td>\n",
              "      <td id=\"T_2fbd2_row1_col5\" class=\"data row1 col5\" >57</td>\n",
              "      <td id=\"T_2fbd2_row1_col6\" class=\"data row1 col6\" >10</td>\n",
              "      <td id=\"T_2fbd2_row1_col7\" class=\"data row1 col7\" >1</td>\n",
              "      <td id=\"T_2fbd2_row1_col8\" class=\"data row1 col8\" >0</td>\n",
              "    </tr>\n",
              "  </tbody>\n",
              "</table>\n"
            ]
          },
          "metadata": {},
          "execution_count": 154
        }
      ]
    },
    {
      "cell_type": "code",
      "source": [
        "널값은\n",
        "\n",
        "df_train\n",
        "\"Dr\", \"Mastar\", \"Miss\", \"Mrs\", \"Mr\"\n",
        "\n",
        "df_test\n",
        "Master\tMiss\tMr\tMrs\tMs"
      ],
      "metadata": {
        "id": "Q06ma1bh9b8e"
      },
      "execution_count": null,
      "outputs": []
    },
    {
      "cell_type": "code",
      "source": [
        "df_train.loc[(df_train.Age.isnull())&(df_train.Initial=='Dr'),'Age'] = df_train[df_train.Initial=='Dr']['Age'].mean()\n",
        "df_train.loc[(df_train.Age.isnull())&(df_train.Initial=='Master'),'Age'] = df_train[df_train.Initial=='Master']['Age'].mean()\n",
        "df_train.loc[(df_train.Age.isnull())&(df_train.Initial=='Miss'),'Age'] = df_train[df_train.Initial=='Miss']['Age'].mean()\n",
        "df_train.loc[(df_train.Age.isnull())&(df_train.Initial=='Mrs'),'Age'] = df_train[df_train.Initial=='Mrs']['Age'].mean()\n",
        "df_train.loc[(df_train.Age.isnull())&(df_train.Initial=='Mr'),'Age'] = df_train[df_train.Initial=='Mr']['Age'].mean()"
      ],
      "metadata": {
        "id": "lB1eLZM2Hi2h"
      },
      "execution_count": 158,
      "outputs": []
    },
    {
      "cell_type": "code",
      "source": [
        "df_test.loc[(df_test.Age.isnull())&(df_test.Initial=='Master'),'Age'] = df_test[df_test.Initial=='Master']['Age'].mean()\n",
        "df_test.loc[(df_test.Age.isnull())&(df_test.Initial=='Miss'),'Age'] = df_test[df_test.Initial=='Miss']['Age'].mean()\n",
        "df_test.loc[(df_test.Age.isnull())&(df_test.Initial=='Mr'),'Age'] = df_test[df_test.Initial=='Mr']['Age'].mean()\n",
        "df_test.loc[(df_test.Age.isnull())&(df_test.Initial=='Mrs'),'Age'] = df_test[df_test.Initial=='Mrs']['Age'].mean()\n",
        "df_test.loc[(df_test.Age.isnull())&(df_test.Initial=='Ms'),'Age'] = df_train[df_train.Initial=='Ms']['Age'].mean()\n"
      ],
      "metadata": {
        "id": "Xg0_9mlMKTmQ"
      },
      "execution_count": 159,
      "outputs": []
    },
    {
      "cell_type": "code",
      "source": [
        " df_train[df_train.Initial=='Mr']['Age'].mean()"
      ],
      "metadata": {
        "id": "kJoqnJgzLWXL"
      },
      "execution_count": null,
      "outputs": []
    },
    {
      "cell_type": "markdown",
      "source": [
        ""
      ],
      "metadata": {
        "id": "3VnoPOnWG_oB"
      }
    },
    {
      "cell_type": "code",
      "source": [
        "pd.crosstab(df_train['Initial'], df_train['Age'].isnull()).T.style.background_gradient(\n",
        "\tcmap='summer_r')"
      ],
      "metadata": {
        "colab": {
          "base_uri": "https://localhost:8080/",
          "height": 112
        },
        "id": "6fKBEA0lFYVT",
        "outputId": "e7a3b05e-0bac-4949-8f6d-f06e9ff79076"
      },
      "execution_count": 160,
      "outputs": [
        {
          "output_type": "execute_result",
          "data": {
            "text/plain": [
              "<pandas.io.formats.style.Styler at 0x7fbd4f854d90>"
            ],
            "text/html": [
              "<style type=\"text/css\">\n",
              "#T_2c375_row0_col0, #T_2c375_row0_col1, #T_2c375_row0_col2, #T_2c375_row0_col3, #T_2c375_row0_col4, #T_2c375_row0_col5, #T_2c375_row0_col6, #T_2c375_row0_col7, #T_2c375_row0_col8, #T_2c375_row0_col9, #T_2c375_row0_col10, #T_2c375_row0_col11, #T_2c375_row0_col12, #T_2c375_row0_col13, #T_2c375_row0_col14, #T_2c375_row0_col15, #T_2c375_row0_col16 {\n",
              "  background-color: #ffff66;\n",
              "  color: #000000;\n",
              "}\n",
              "</style>\n",
              "<table id=\"T_2c375_\" class=\"dataframe\">\n",
              "  <thead>\n",
              "    <tr>\n",
              "      <th class=\"index_name level0\" >Initial</th>\n",
              "      <th class=\"col_heading level0 col0\" >Capt</th>\n",
              "      <th class=\"col_heading level0 col1\" >Col</th>\n",
              "      <th class=\"col_heading level0 col2\" >Countess</th>\n",
              "      <th class=\"col_heading level0 col3\" >Don</th>\n",
              "      <th class=\"col_heading level0 col4\" >Dr</th>\n",
              "      <th class=\"col_heading level0 col5\" >Jonkheer</th>\n",
              "      <th class=\"col_heading level0 col6\" >Lady</th>\n",
              "      <th class=\"col_heading level0 col7\" >Major</th>\n",
              "      <th class=\"col_heading level0 col8\" >Master</th>\n",
              "      <th class=\"col_heading level0 col9\" >Miss</th>\n",
              "      <th class=\"col_heading level0 col10\" >Mlle</th>\n",
              "      <th class=\"col_heading level0 col11\" >Mme</th>\n",
              "      <th class=\"col_heading level0 col12\" >Mr</th>\n",
              "      <th class=\"col_heading level0 col13\" >Mrs</th>\n",
              "      <th class=\"col_heading level0 col14\" >Ms</th>\n",
              "      <th class=\"col_heading level0 col15\" >Rev</th>\n",
              "      <th class=\"col_heading level0 col16\" >Sir</th>\n",
              "    </tr>\n",
              "    <tr>\n",
              "      <th class=\"index_name level0\" >Age</th>\n",
              "      <th class=\"blank col0\" >&nbsp;</th>\n",
              "      <th class=\"blank col1\" >&nbsp;</th>\n",
              "      <th class=\"blank col2\" >&nbsp;</th>\n",
              "      <th class=\"blank col3\" >&nbsp;</th>\n",
              "      <th class=\"blank col4\" >&nbsp;</th>\n",
              "      <th class=\"blank col5\" >&nbsp;</th>\n",
              "      <th class=\"blank col6\" >&nbsp;</th>\n",
              "      <th class=\"blank col7\" >&nbsp;</th>\n",
              "      <th class=\"blank col8\" >&nbsp;</th>\n",
              "      <th class=\"blank col9\" >&nbsp;</th>\n",
              "      <th class=\"blank col10\" >&nbsp;</th>\n",
              "      <th class=\"blank col11\" >&nbsp;</th>\n",
              "      <th class=\"blank col12\" >&nbsp;</th>\n",
              "      <th class=\"blank col13\" >&nbsp;</th>\n",
              "      <th class=\"blank col14\" >&nbsp;</th>\n",
              "      <th class=\"blank col15\" >&nbsp;</th>\n",
              "      <th class=\"blank col16\" >&nbsp;</th>\n",
              "    </tr>\n",
              "  </thead>\n",
              "  <tbody>\n",
              "    <tr>\n",
              "      <th id=\"T_2c375_level0_row0\" class=\"row_heading level0 row0\" >False</th>\n",
              "      <td id=\"T_2c375_row0_col0\" class=\"data row0 col0\" >1</td>\n",
              "      <td id=\"T_2c375_row0_col1\" class=\"data row0 col1\" >2</td>\n",
              "      <td id=\"T_2c375_row0_col2\" class=\"data row0 col2\" >1</td>\n",
              "      <td id=\"T_2c375_row0_col3\" class=\"data row0 col3\" >1</td>\n",
              "      <td id=\"T_2c375_row0_col4\" class=\"data row0 col4\" >7</td>\n",
              "      <td id=\"T_2c375_row0_col5\" class=\"data row0 col5\" >1</td>\n",
              "      <td id=\"T_2c375_row0_col6\" class=\"data row0 col6\" >1</td>\n",
              "      <td id=\"T_2c375_row0_col7\" class=\"data row0 col7\" >2</td>\n",
              "      <td id=\"T_2c375_row0_col8\" class=\"data row0 col8\" >40</td>\n",
              "      <td id=\"T_2c375_row0_col9\" class=\"data row0 col9\" >182</td>\n",
              "      <td id=\"T_2c375_row0_col10\" class=\"data row0 col10\" >2</td>\n",
              "      <td id=\"T_2c375_row0_col11\" class=\"data row0 col11\" >1</td>\n",
              "      <td id=\"T_2c375_row0_col12\" class=\"data row0 col12\" >517</td>\n",
              "      <td id=\"T_2c375_row0_col13\" class=\"data row0 col13\" >125</td>\n",
              "      <td id=\"T_2c375_row0_col14\" class=\"data row0 col14\" >1</td>\n",
              "      <td id=\"T_2c375_row0_col15\" class=\"data row0 col15\" >6</td>\n",
              "      <td id=\"T_2c375_row0_col16\" class=\"data row0 col16\" >1</td>\n",
              "    </tr>\n",
              "  </tbody>\n",
              "</table>\n"
            ]
          },
          "metadata": {},
          "execution_count": 160
        }
      ]
    },
    {
      "cell_type": "code",
      "source": [
        "pd.crosstab(df_test['Initial'], df_test['Age'].isnull()).T.style.background_gradient(\n",
        "\tcmap='summer_r')"
      ],
      "metadata": {
        "colab": {
          "base_uri": "https://localhost:8080/",
          "height": 112
        },
        "id": "GouNJHMQK2N0",
        "outputId": "8921daac-6d34-459e-b34a-9994df98c476"
      },
      "execution_count": 161,
      "outputs": [
        {
          "output_type": "execute_result",
          "data": {
            "text/plain": [
              "<pandas.io.formats.style.Styler at 0x7fbd4f85b090>"
            ],
            "text/html": [
              "<style type=\"text/css\">\n",
              "#T_75d65_row0_col0, #T_75d65_row0_col1, #T_75d65_row0_col2, #T_75d65_row0_col3, #T_75d65_row0_col4, #T_75d65_row0_col5, #T_75d65_row0_col6, #T_75d65_row0_col7, #T_75d65_row0_col8 {\n",
              "  background-color: #ffff66;\n",
              "  color: #000000;\n",
              "}\n",
              "</style>\n",
              "<table id=\"T_75d65_\" class=\"dataframe\">\n",
              "  <thead>\n",
              "    <tr>\n",
              "      <th class=\"index_name level0\" >Initial</th>\n",
              "      <th class=\"col_heading level0 col0\" >Col</th>\n",
              "      <th class=\"col_heading level0 col1\" >Dona</th>\n",
              "      <th class=\"col_heading level0 col2\" >Dr</th>\n",
              "      <th class=\"col_heading level0 col3\" >Master</th>\n",
              "      <th class=\"col_heading level0 col4\" >Miss</th>\n",
              "      <th class=\"col_heading level0 col5\" >Mr</th>\n",
              "      <th class=\"col_heading level0 col6\" >Mrs</th>\n",
              "      <th class=\"col_heading level0 col7\" >Ms</th>\n",
              "      <th class=\"col_heading level0 col8\" >Rev</th>\n",
              "    </tr>\n",
              "    <tr>\n",
              "      <th class=\"index_name level0\" >Age</th>\n",
              "      <th class=\"blank col0\" >&nbsp;</th>\n",
              "      <th class=\"blank col1\" >&nbsp;</th>\n",
              "      <th class=\"blank col2\" >&nbsp;</th>\n",
              "      <th class=\"blank col3\" >&nbsp;</th>\n",
              "      <th class=\"blank col4\" >&nbsp;</th>\n",
              "      <th class=\"blank col5\" >&nbsp;</th>\n",
              "      <th class=\"blank col6\" >&nbsp;</th>\n",
              "      <th class=\"blank col7\" >&nbsp;</th>\n",
              "      <th class=\"blank col8\" >&nbsp;</th>\n",
              "    </tr>\n",
              "  </thead>\n",
              "  <tbody>\n",
              "    <tr>\n",
              "      <th id=\"T_75d65_level0_row0\" class=\"row_heading level0 row0\" >False</th>\n",
              "      <td id=\"T_75d65_row0_col0\" class=\"data row0 col0\" >2</td>\n",
              "      <td id=\"T_75d65_row0_col1\" class=\"data row0 col1\" >1</td>\n",
              "      <td id=\"T_75d65_row0_col2\" class=\"data row0 col2\" >1</td>\n",
              "      <td id=\"T_75d65_row0_col3\" class=\"data row0 col3\" >21</td>\n",
              "      <td id=\"T_75d65_row0_col4\" class=\"data row0 col4\" >78</td>\n",
              "      <td id=\"T_75d65_row0_col5\" class=\"data row0 col5\" >240</td>\n",
              "      <td id=\"T_75d65_row0_col6\" class=\"data row0 col6\" >72</td>\n",
              "      <td id=\"T_75d65_row0_col7\" class=\"data row0 col7\" >1</td>\n",
              "      <td id=\"T_75d65_row0_col8\" class=\"data row0 col8\" >2</td>\n",
              "    </tr>\n",
              "  </tbody>\n",
              "</table>\n"
            ]
          },
          "metadata": {},
          "execution_count": 161
        }
      ]
    },
    {
      "cell_type": "markdown",
      "source": [
        "clear"
      ],
      "metadata": {
        "id": "zZDiMt7SLxs-"
      }
    },
    {
      "cell_type": "code",
      "source": [
        ""
      ],
      "metadata": {
        "id": "D85QKYsLL0Hd"
      },
      "execution_count": null,
      "outputs": []
    }
  ]
}